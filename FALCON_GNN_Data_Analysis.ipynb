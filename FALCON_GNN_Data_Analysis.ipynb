{
 "cells": [
  {
   "cell_type": "code",
   "execution_count": 190,
   "id": "fe059801",
   "metadata": {},
   "outputs": [],
   "source": [
    "import torch\n",
    "import torch.nn as nn\n",
    "import numpy as np\n",
    "import matplotlib.pyplot as plt\n",
    "import os\n",
    "from os import listdir\n",
    "from os.path import isfile, join\n",
    "from ops.os_operation import mkdir\n",
    "import shutil\n",
    "import  numpy as np\n",
    "from data_processing.Prepare_Input import Prepare_Input\n",
    "from data_processing.Single_Dataset import Single_Dataset\n",
    "from torch.utils.data import DataLoader\n",
    "from data_processing.collate_fn import collate_fn_Jake\n",
    "import pickle"
   ]
  },
  {
   "cell_type": "code",
   "execution_count": 41,
   "id": "8f25fc12",
   "metadata": {},
   "outputs": [],
   "source": [
    "import torch\n",
    "import torch.nn.functional as F\n",
    "import torch.nn as nn\n",
    "import time\n",
    "from multiprocessing import Pool\n",
    "from model.layers import GAT_gate\n",
    "\n",
    "N_atom_features = 28\n",
    "\n",
    "class GNN_Model(nn.Module):\n",
    "    def __init__(self, params):\n",
    "        super(GNN_Model, self).__init__()\n",
    "        n_graph_layer = params['n_graph_layer']\n",
    "        d_graph_layer = params['d_graph_layer']\n",
    "        n_FC_layer = params['n_FC_layer']\n",
    "        d_FC_layer = params['d_FC_layer']\n",
    "        self.dropout_rate = params['dropout_rate']\n",
    "\n",
    "\n",
    "        self.layers1 = [d_graph_layer for i in range(n_graph_layer +1)]\n",
    "        self.gconv1 = nn.ModuleList \\\n",
    "            ([GAT_gate(self.layers1[i], self.layers1[ i +1]) for i in range(len(self.layers1 ) -1)])\n",
    "\n",
    "#         Original\n",
    "#         self.FC = nn.ModuleList([nn.Linear(self.layers1[-1], d_FC_layer) if i== 0 else\n",
    "#                                  nn.Linear(d_FC_layer, 1) if i == n_FC_layer - 1 else\n",
    "#                                  nn.Linear(d_FC_layer, d_FC_layer) for i in range(n_FC_layer)])\n",
    "\n",
    "#         Jake params 1\n",
    "#         self.FC = nn.ModuleList([nn.Linear(self.layers1[-1], 300),\n",
    "#                                  nn.Linear(300, 200),\n",
    "#                                  nn.Linear(200, 1)\n",
    "#                                  ])\n",
    "\n",
    "#         Jake params 2\n",
    "        self.FC = nn.ModuleList([nn.Linear(self.layers1[-1], 2048),\n",
    "                                 nn.Linear(2048, 512),\n",
    "                                 nn.Linear(512, 256),\n",
    "                                 nn.Linear(256, 1)\n",
    "                                 ])\n",
    "\n",
    "#         Jake params 3\n",
    "#         self.FC = nn.ModuleList([nn.Linear(self.layers1[-1], 2048),\n",
    "#                                  nn.Linear(2048, 512),\n",
    "#                                  nn.Linear(512, 256),\n",
    "#                                  nn.Linear(256, 1)\n",
    "#                                  ])\n",
    "\n",
    "        self.mu = nn.Parameter(torch.Tensor([params['initial_mu']]).float())\n",
    "        self.dev = nn.Parameter(torch.Tensor([params['initial_dev']]).float())\n",
    "        #self.embede = nn.Linear(2 * N_atom_features, d_graph_layer, bias=False)\n",
    "        self.params=params\n",
    "\n",
    "\n",
    "\n",
    "    def fully_connected(self, c_hs):\n",
    "        regularization = torch.empty(len(self.FC) * 1 - 1, device=c_hs.device)\n",
    "        act_fn = nn.LeakyReLU(0.2)\n",
    "\n",
    "        for k in range(len(self.FC)):\n",
    "            # c_hs = self.FC[k](c_hs)\n",
    "            if k < len(self.FC) - 1:\n",
    "                c_hs = self.FC[k](c_hs)\n",
    "                c_hs = F.dropout(c_hs, p=self.dropout_rate, training=self.training)\n",
    "                # c_hs = F.relu(c_hs)\n",
    "                c_hs = act_fn(c_hs)\n",
    "            else:\n",
    "                c_hs = self.FC[k](c_hs)\n",
    "\n",
    "        c_hs = torch.sigmoid(c_hs)\n",
    "\n",
    "        return c_hs\n",
    "    def Formulate_Adj2(self,c_adjs2,c_valid,atom_list,device):\n",
    "        study_distance = c_adjs2.clone().detach().to(device)  # only focused on where there exist atoms, ignore the area filled with 0\n",
    "        study_distance = torch.exp(-torch.pow(study_distance - self.mu.expand_as(study_distance), 2) / self.dev)\n",
    "        filled_value = torch.Tensor([0]).expand_as(study_distance).to(device)\n",
    "        for batch_idx in range(len(c_adjs2)):\n",
    "            num_atoms = int(atom_list[batch_idx])\n",
    "            count_receptor = len(c_valid[batch_idx].nonzero())\n",
    "            c_adjs2[batch_idx,:count_receptor,count_receptor:num_atoms]=torch.where(c_adjs2[batch_idx,:count_receptor,count_receptor:num_atoms]<=20,study_distance[batch_idx,:count_receptor,count_receptor:num_atoms],filled_value[batch_idx,:count_receptor,count_receptor:num_atoms])\n",
    "            c_adjs2[batch_idx,count_receptor:num_atoms,:count_receptor]=c_adjs2[batch_idx,:count_receptor,count_receptor:num_atoms].t()\n",
    "        return c_adjs2\n",
    "\n",
    "    def get_attention_weight(self,data):\n",
    "        c_hs, c_adjs1, c_adjs2 = data\n",
    "        atten1,c_hs1 = self.gconv1[0](c_hs, c_adjs1,request_attention=True)  # filled 0 part will not effect other parts\n",
    "        atten2,c_hs2 = self.gconv1[0](c_hs, c_adjs2,request_attention=True)\n",
    "        return atten1,atten2\n",
    "    def embede_graph(self, data):\n",
    "        \"\"\"\n",
    "\n",
    "        :param data:\n",
    "        :return: c_hs:batch_size*max_atoms\n",
    "        \"\"\"\n",
    "        c_hs, c_adjs1, c_adjs2= data\n",
    "        regularization = torch.empty(len(self.gconv1), device=c_hs.device)\n",
    "\n",
    "        for k in range(len(self.gconv1)):\n",
    "            c_hs1 = self.gconv1[k](c_hs, c_adjs1)#filled 0 part will not effect other parts\n",
    "            c_hs2 = self.gconv1[k](c_hs, c_adjs2)\n",
    "            c_hs = c_hs2 - c_hs1\n",
    "            c_hs = F.dropout(c_hs, p=self.dropout_rate, training=self.training)\n",
    "        #c_hs = c_hs.sum(1)\n",
    "        return c_hs\n",
    "    def Get_Prediction(self,c_hs,atom_list):\n",
    "        prediction=[]\n",
    "        for batch_idx in range(len(atom_list)):\n",
    "            num_atoms = int(atom_list[batch_idx])\n",
    "            tmp_pred=c_hs[batch_idx,:num_atoms]\n",
    "            \n",
    "            ## POOLING METHOD:\n",
    "            # tmp_pred=tmp_pred.sum(0)#sum all the used atoms\n",
    "            tmp_pred=tmp_pred.mean(0) ## Average all the used atoms\n",
    "            \n",
    "            \n",
    "            #if self.params['debug']:\n",
    "            #    print(\"pred feature size\",tmp_pred.size())\n",
    "            prediction.append(tmp_pred)\n",
    "        prediction = torch.stack(prediction, 0)\n",
    "        return prediction\n",
    "    def train_model(self,data,device):\n",
    "        #get data\n",
    "        c_hs, c_adjs1, c_adjs2, c_valid, num_atoms = data\n",
    "        #c_hs = self.embede(c_hs)\n",
    "        c_adjs2=self.Formulate_Adj2(c_adjs2,c_valid,num_atoms,device)\n",
    "        #then do the gate\n",
    "        c_hs=self.embede_graph((c_hs,c_adjs1,c_adjs2))\n",
    "        #if self.params['debug']:\n",
    "        #    print(\"embedding size\",c_hs.size())\n",
    "        #sum based on the atoms\n",
    "        c_hs=self.Get_Prediction(c_hs,num_atoms)\n",
    "        c_hs = self.fully_connected(c_hs)\n",
    "        c_hs = c_hs.view(-1)\n",
    "        return c_hs\n",
    "    def test_model(self, data,device):\n",
    "        c_hs, c_adjs1, c_adjs2, c_valid, num_atoms = data\n",
    "        #c_hs = self.embede(c_hs)\n",
    "        c_adjs2 = self.Formulate_Adj2(c_adjs2, c_valid, num_atoms,device)\n",
    "        # then do the gate\n",
    "        c_hs = self.embede_graph((c_hs, c_adjs1, c_adjs2))\n",
    "        # sum based on the atoms\n",
    "        c_hs = self.Get_Prediction(c_hs, num_atoms)\n",
    "        c_hs = self.fully_connected(c_hs)\n",
    "        c_hs = c_hs.view(-1)\n",
    "        return c_hs\n",
    "    def test_model_final(self,data,device):\n",
    "        c_hs, c_adjs1, c_adjs2, c_valid, num_atoms = data\n",
    "        #c_hs = self.embede(c_hs)\n",
    "        c_adjs2 = self.Formulate_Adj2(c_adjs2, c_valid, num_atoms, device)\n",
    "        attention1, attention2 = self.get_attention_weight((c_hs, c_adjs1, c_adjs2))\n",
    "        # then do the gate\n",
    "        c_hs = self.embede_graph((c_hs, c_adjs1, c_adjs2))\n",
    "        # sum based on the atoms\n",
    "        c_hs = self.Get_Prediction(c_hs, num_atoms)\n",
    "        c_hs = self.fully_connected(c_hs)\n",
    "        c_hs = c_hs.view(-1)\n",
    "        return c_hs,attention1,attention2\n",
    "    def eval_model_attention(self,data,device):\n",
    "        c_hs, c_adjs1, c_adjs2, c_valid, num_atoms = data\n",
    "        #c_hs = self.embede(c_hs)\n",
    "        c_adjs2 = self.Formulate_Adj2(c_adjs2, c_valid, num_atoms, device)\n",
    "        attention1,attention2 = self.get_attention_weight((c_hs, c_adjs1, c_adjs2))\n",
    "        return attention1,attention2\n",
    "    def feature_extraction(self,c_hs):\n",
    "        for k in range(len(self.FC)):\n",
    "                # c_hs = self.FC[k](c_hs)\n",
    "            if k < len(self.FC) - 1:\n",
    "                c_hs = self.FC[k](c_hs)\n",
    "                c_hs = F.dropout(c_hs, p=self.dropout_rate, training=False)\n",
    "                c_hs = F.relu(c_hs)\n",
    "\n",
    "            return c_hs\n",
    "    def model_gnn_feature(self, data,device):\n",
    "        c_hs, c_adjs1, c_adjs2, c_valid, num_atoms = data\n",
    "        #c_hs = self.embede(c_hs)\n",
    "        c_adjs2 = self.Formulate_Adj2(c_adjs2, c_valid, num_atoms,device)\n",
    "        # then do the gate\n",
    "        c_hs = self.embede_graph((c_hs, c_adjs1, c_adjs2))\n",
    "        # sum based on the atoms\n",
    "        c_hs = self.Get_Prediction(c_hs, num_atoms)\n",
    "        #c_hs = self.fully_connected(c_hs)\n",
    "        #c_hs = c_hs.view(-1)\n",
    "        c_hs=self.feature_extraction(c_hs)\n",
    "        return c_hs"
   ]
  },
  {
   "cell_type": "code",
   "execution_count": 3,
   "id": "e1238073",
   "metadata": {},
   "outputs": [],
   "source": [
    "def count_parameters(model):\n",
    "    return sum(p.numel() for p in model.parameters() if p.requires_grad)\n",
    "\n",
    "def initialize_model(model, device, load_save_file=False):\n",
    "    if load_save_file:\n",
    "        model.load_state_dict(torch.load(load_save_file))\n",
    "    else:\n",
    "        for param in model.parameters():\n",
    "            if param.dim() == 1:\n",
    "                continue\n",
    "                nn.init.constant(param, 0)\n",
    "            else:\n",
    "                #nn.init.normal(param, 0.0, 0.15)\n",
    "                nn.init.xavier_normal_(param)\n",
    "\n",
    "    if torch.cuda.device_count() > 1:\n",
    "        print(\"Let's use\", torch.cuda.device_count(), \"GPUs!\")\n",
    "        # dim = 0 [30, xxx] -> [10, ...], [10, ...], [10, ...] on 3 GPUs\n",
    "        model = nn.DataParallel(model)\n",
    "    model.to(device)\n",
    "    return model\n",
    "\n",
    "def init_model(model_path,params):\n",
    "    model = GNN_Model(params)\n",
    "    print('    Total params: %.10fM' % (count_parameters(model) / 1000000.0))\n",
    "    device = torch.device(\"cuda:0\" if torch.cuda.is_available() else \"cpu\")\n",
    "    model = initialize_model(model, device)\n",
    "    state_dict = torch.load(model_path, map_location = device)\n",
    "    model.load_state_dict(state_dict)\n",
    "    model.eval()\n",
    "    return model,device"
   ]
  },
  {
   "cell_type": "code",
   "execution_count": 47,
   "id": "57dba93d",
   "metadata": {},
   "outputs": [],
   "source": [
    "def Get_Predictions(dataloader,device,model):\n",
    "    Final_pred = []\n",
    "    total_Y = []\n",
    "    with torch.no_grad():\n",
    "        for batch_idx, sample in enumerate(dataloader):\n",
    "            H, A1, A2, V, Y, Atom_count = sample\n",
    "            batch_size = H.size(0)\n",
    "            H, A1, A2, V = H.to(device), A1.to(device), A2.to(device), V.to(device)\n",
    "            pred= model.test_model((H, A1, A2, V, Atom_count), device)\n",
    "            pred1 = pred.detach().cpu().numpy()\n",
    "            Final_pred += list(pred1)\n",
    "            total_Y += list(Y)\n",
    "    return total_Y, Final_pred\n",
    "\n",
    "def test_falcon_gnn(input_path, params, model_path):\n",
    "    '''\n",
    "    Trains the GNN according to Jake's parameters.\n",
    "    FALCON_GNN stands for Fucking Awesome Linking\n",
    "    Cohort Of Nottingham, which I just made up\n",
    "    '''\n",
    "    ## Get all the NPZ files from the input_path\n",
    "\n",
    "    list_npz = [f for f in listdir(input_path) if isfile(join(input_path, f)) and f.endswith(\".npz\")]\n",
    "    fold1_label = ['1a2k', '1e96', '1he1', '1he8', '1wq1', '1f6m', '1ma9', '2btf', '1g20', '1ku6', '1t6g', '1ugh', '1yvb', '2ckh', '3pro']\n",
    "    fold2_label = ['1akj', '1p7q', '2bnq', '1dfj', '1nbf', '1r4m', '1xd3', '2bkr', '1gpw', '1hxy', '1u7f', '1uex', '1zy8', '2goo', '1ewy']\n",
    "    fold3_label = ['1avw', '1bth', '1bui', '1cho', '1ezu', '1ook', '1oph', '1ppf', '1tx6', '1xx9', '2fi4', '2kai', '1r0r', '2sni', '3sic']\n",
    "    fold4_label = ['1bvn', '1tmq', '1f51', '1fm9', '1a2y', '1g6v', '1gpq', '1jps', '1wej', '1l9b', '1s6v', '1w1i', '2a5t', '3fap']\n",
    "\n",
    "    train_data_list = []\n",
    "    test_data_list = []\n",
    "    print(len(list_npz))\n",
    "    for file in list_npz:\n",
    "        if file[:4] in fold1_label or file[:4] in fold2_label or file[:4] in fold4_label:\n",
    "            train_data_list.append(file)\n",
    "        elif file[:4] in fold3_label:\n",
    "            test_data_list.append(file)\n",
    "    \n",
    "    ## Just to test it out\n",
    "#     test_data_list = test_data_list[:120]\n",
    "    \n",
    "    train_data = Single_Dataset(train_data_list)\n",
    "    test_data = Single_Dataset(test_data_list)\n",
    "    #train_data, test_data = random_split(dataset, [0.75, 0.25])\n",
    "\n",
    "    BATCH_SIZE = 10\n",
    "\n",
    "    train_loader = DataLoader(train_data, BATCH_SIZE, shuffle=False,\n",
    "                            num_workers=params['num_workers'],\n",
    "                            drop_last=False, collate_fn=collate_fn_Jake)\n",
    "\n",
    "    test_loader = DataLoader(test_data, BATCH_SIZE, shuffle=False,\n",
    "                            num_workers=params['num_workers'],\n",
    "                            drop_last=False, collate_fn=collate_fn_Jake)\n",
    "\n",
    "    ## Initialize Model from saved state\n",
    "    \n",
    "    model, device = init_model(model_path, params)\n",
    "    \n",
    "    ## Get predictions for the model\n",
    "    \n",
    "    os.chdir(input_path)\n",
    "    Y, Final_Pred = Get_Predictions(test_loader, device, model)\n",
    "     \n",
    "    return test_data_list, Final_Pred, Y"
   ]
  },
  {
   "cell_type": "markdown",
   "id": "9170a8bf",
   "metadata": {},
   "source": [
    "## Actually testing the model"
   ]
  },
  {
   "cell_type": "code",
   "execution_count": 10,
   "id": "ee198b0c",
   "metadata": {},
   "outputs": [
    {
     "name": "stdout",
     "output_type": "stream",
     "text": [
      "6275\n",
      "    Total params: 8.5652550000M\n"
     ]
    }
   ],
   "source": [
    "## Original DOVE GNN Parameters\n",
    "\n",
    "params = {\n",
    "    'F' : 'example',\n",
    "    'mode' : '3',\n",
    "    'gpu' : '0',\n",
    "    'batch_size' : 32,\n",
    "    'num_workers' : 7,\n",
    "    'n_graph_layer' : 4,\n",
    "    'd_graph_layer' : 1024,\n",
    "    'n_FC_layer' : 4,\n",
    "    'd_FC_layer' : 128,\n",
    "    'initial_mu' : 0.0,\n",
    "    'initial_dev' : 1.0,\n",
    "    'dropout_rate' : 0.3,\n",
    "    'seed' : 888,\n",
    "    'fold' : -1,\n",
    "    'receptor_units' : 1,\n",
    "}\n",
    "\n",
    "\n",
    "model_path = \"/mnt/c/Users/jaket/Documents/GNN_DOVE_DATA/full_train_DG1_random_batch_orig_params.pt\"\n",
    "input_path = \"/mnt/d/dockground_1_processed_npz\"\n",
    "test_list, preds, y = test_falcon_gnn(input_path, params, model_path)"
   ]
  },
  {
   "cell_type": "code",
   "execution_count": 16,
   "id": "1d32ef5e",
   "metadata": {},
   "outputs": [
    {
     "name": "stdout",
     "output_type": "stream",
     "text": [
      "6275\n",
      "    Total params: 6.6685780000M\n"
     ]
    }
   ],
   "source": [
    "## Jake Parameters 1\n",
    "\n",
    "params = {\n",
    "    'F' : 'example',\n",
    "    'mode' : '3',\n",
    "    'gpu' : '0',\n",
    "    'batch_size' : 32,\n",
    "    'num_workers' : 7,\n",
    "    'n_graph_layer' : 3,\n",
    "    'd_graph_layer' : 1024,\n",
    "    'n_FC_layer' : 4,\n",
    "    'd_FC_layer' : 128,\n",
    "    'initial_mu' : 0.0,\n",
    "    'initial_dev' : 1.0,\n",
    "    'dropout_rate' : 0.3,\n",
    "    'seed' : 888,\n",
    "    'fold' : -1,\n",
    "    'receptor_units' : 1,\n",
    "}\n",
    "\n",
    "\n",
    "model_path = \"/mnt/c/Users/jaket/Documents/GNN_DOVE_DATA/full_train_DG1_random_batch_jake_params_1.pt\"\n",
    "input_path = \"/mnt/d/dockground_1_processed_npz\"\n",
    "test_list_1, preds_1, y_1 = test_falcon_gnn(input_path, params, model_path)"
   ]
  },
  {
   "cell_type": "code",
   "execution_count": 20,
   "id": "4d181d3b",
   "metadata": {},
   "outputs": [
    {
     "name": "stdout",
     "output_type": "stream",
     "text": [
      "6275\n",
      "    Total params: 9.5805500000M\n"
     ]
    }
   ],
   "source": [
    "## Jake Parameters 2\n",
    "\n",
    "params = {\n",
    "    'F' : 'example',\n",
    "    'mode' : '3',\n",
    "    'gpu' : '0',\n",
    "    'batch_size' : 32,\n",
    "    'num_workers' : 7,\n",
    "    'n_graph_layer' : 3,\n",
    "    'd_graph_layer' : 1024,\n",
    "    'n_FC_layer' : 4,\n",
    "    'd_FC_layer' : 128,\n",
    "    'initial_mu' : 0.0,\n",
    "    'initial_dev' : 1.0,\n",
    "    'dropout_rate' : 0.3,\n",
    "    'seed' : 888,\n",
    "    'fold' : -1,\n",
    "    'receptor_units' : 1,\n",
    "}\n",
    "\n",
    "\n",
    "model_path = \"/mnt/c/Users/jaket/Documents/GNN_DOVE_DATA/full_train_DG1_random_batch_jake_params_2.pt\"\n",
    "input_path = \"/mnt/d/dockground_1_processed_npz\"\n",
    "test_list_2, preds_2, y_2 = test_falcon_gnn(input_path, params, model_path)"
   ]
  },
  {
   "cell_type": "code",
   "execution_count": 22,
   "id": "4d204c42",
   "metadata": {},
   "outputs": [
    {
     "name": "stdout",
     "output_type": "stream",
     "text": [
      "6275\n",
      "    Total params: 9.5805500000M\n"
     ]
    }
   ],
   "source": [
    "## Jake Parameters 3\n",
    "\n",
    "params = {\n",
    "    'F' : 'example',\n",
    "    'mode' : '3',\n",
    "    'gpu' : '0',\n",
    "    'batch_size' : 32,\n",
    "    'num_workers' : 7,\n",
    "    'n_graph_layer' : 3,\n",
    "    'd_graph_layer' : 1024,\n",
    "    'n_FC_layer' : 4,\n",
    "    'd_FC_layer' : 128,\n",
    "    'initial_mu' : 0.0,\n",
    "    'initial_dev' : 1.0,\n",
    "    'dropout_rate' : 0.3,\n",
    "    'seed' : 888,\n",
    "    'fold' : -1,\n",
    "    'receptor_units' : 1,\n",
    "}\n",
    "\n",
    "\n",
    "model_path = \"/mnt/c/Users/jaket/Documents/GNN_DOVE_DATA/full_train_DG1_random_batch_jake_params_3.pt\"\n",
    "input_path = \"/mnt/d/dockground_1_processed_npz\"\n",
    "test_list_3, preds_3, y_3 = test_falcon_gnn(input_path, params, model_path)"
   ]
  },
  {
   "cell_type": "markdown",
   "id": "54116819",
   "metadata": {},
   "source": [
    "## Assessing the Top Ranks of the Models"
   ]
  },
  {
   "cell_type": "code",
   "execution_count": 34,
   "id": "9fa184db",
   "metadata": {},
   "outputs": [],
   "source": [
    "## Some functions to help with everything\n",
    "def get_ordered_list(test_list, preds, y):\n",
    "    '''\n",
    "    Works to get the ordered and grouped list \n",
    "    to make analysis easier\n",
    "    '''\n",
    "    curr_pdb = ''\n",
    "    ordered_test_list = []\n",
    "    temp_pdb_list = []\n",
    "    for i,ele in enumerate(test_list):\n",
    "        if ele[:4] != curr_pdb:\n",
    "            ## Reset the vars for the next pdb set\n",
    "            curr_pdb = ele[:4]\n",
    "            temp_pdb_list.sort()\n",
    "            ordered_test_list.append(temp_pdb_list[::-1])\n",
    "            temp_pdb_list = []\n",
    "        temp_pdb_list.append((preds[i], ele.split(\".\")[0], int(y[i])))\n",
    "\n",
    "    ordered_test_list = ordered_test_list[1:]\n",
    "    return ordered_test_list"
   ]
  },
  {
   "cell_type": "code",
   "execution_count": 35,
   "id": "8b6283e6",
   "metadata": {},
   "outputs": [],
   "source": [
    "## Getting the top ranks the same way that DOVE_GNN does\n",
    "\n",
    "def get_ranks(ordered_test_list):\n",
    "    '''\n",
    "    Gets the top ranks the same way the DOVE GNN does\n",
    "    '''\n",
    "    rank_list = []\n",
    "    for group in ordered_test_list:\n",
    "        first_rank = 0\n",
    "        group_name = group[0][1][:4]\n",
    "        for i, entry in enumerate(group):\n",
    "            if entry[2] == 1:\n",
    "                rank_list.append((group_name, i+1))\n",
    "                break\n",
    "    return rank_list"
   ]
  },
  {
   "cell_type": "code",
   "execution_count": 36,
   "id": "907937cf",
   "metadata": {},
   "outputs": [],
   "source": [
    "## Calculating the Top Ranks:\n",
    "\n",
    "orig_ranks = get_ranks(get_ordered_list(test_list, preds, y))\n",
    "jake1_ranks = get_ranks(get_ordered_list(test_list_1, preds_1, y_1))\n",
    "jake2_ranks = get_ranks(get_ordered_list(test_list_2, preds_2, y_2))\n",
    "jake3_ranks = get_ranks(get_ordered_list(test_list_3, preds_3, y_3))"
   ]
  },
  {
   "cell_type": "code",
   "execution_count": 37,
   "id": "9591de70",
   "metadata": {},
   "outputs": [
    {
     "name": "stdout",
     "output_type": "stream",
     "text": [
      "[('1akj', 1), ('1dfj', 1), ('1ewy', 1), ('1gpw', 1), ('1hxy', 1), ('1nbf', 1), ('1p7q', 1), ('1r4m', 1), ('1u7f', 1), ('1uex', 1), ('1xd3', 1), ('1zy8', 1), ('2bkr', 1), ('2bnq', 1)]\n"
     ]
    }
   ],
   "source": [
    "print(orig_ranks)"
   ]
  },
  {
   "cell_type": "code",
   "execution_count": 38,
   "id": "75f474ad",
   "metadata": {},
   "outputs": [
    {
     "name": "stdout",
     "output_type": "stream",
     "text": [
      "[('1akj', 1), ('1dfj', 1), ('1ewy', 1), ('1gpw', 1), ('1hxy', 1), ('1nbf', 1), ('1p7q', 1), ('1r4m', 1), ('1u7f', 1), ('1uex', 1), ('1xd3', 1), ('1zy8', 1), ('2bkr', 1), ('2bnq', 1)]\n"
     ]
    }
   ],
   "source": [
    "print(jake1_ranks)"
   ]
  },
  {
   "cell_type": "code",
   "execution_count": 39,
   "id": "3869e066",
   "metadata": {},
   "outputs": [
    {
     "name": "stdout",
     "output_type": "stream",
     "text": [
      "[('1akj', 1), ('1dfj', 79), ('1ewy', 3), ('1gpw', 66), ('1hxy', 1), ('1nbf', 1), ('1p7q', 1), ('1r4m', 6), ('1u7f', 2), ('1uex', 2), ('1xd3', 1), ('1zy8', 3), ('2bkr', 1), ('2bnq', 1)]\n"
     ]
    }
   ],
   "source": [
    "print(jake2_ranks)"
   ]
  },
  {
   "cell_type": "code",
   "execution_count": 40,
   "id": "b12acb63",
   "metadata": {},
   "outputs": [
    {
     "name": "stdout",
     "output_type": "stream",
     "text": [
      "[('1akj', 2), ('1dfj', 64), ('1ewy', 3), ('1gpw', 19), ('1hxy', 2), ('1nbf', 8), ('1p7q', 1), ('1r4m', 22), ('1u7f', 2), ('1uex', 17), ('1xd3', 6), ('1zy8', 1), ('2bkr', 4), ('2bnq', 1)]\n"
     ]
    }
   ],
   "source": [
    "print(jake3_ranks)"
   ]
  },
  {
   "cell_type": "markdown",
   "id": "56b56c83",
   "metadata": {},
   "source": [
    "## Looking at Loss"
   ]
  },
  {
   "cell_type": "code",
   "execution_count": 48,
   "id": "8e7e321e",
   "metadata": {},
   "outputs": [],
   "source": [
    "os.chdir(\"/mnt/c/Users/jaket/Documents/GNN_DOVE_DATA/\")\n",
    "loss_orig = pickle.load(open(\"full_train_DG1_random_batch_orig_params_loss.pickle\", \"rb\"))\n",
    "loss_jake_1 = pickle.load(open(\"full_train_DG1_random_batch_jake_params_1_loss.pickle\", \"rb\"))\n",
    "loss_jake_2 = pickle.load(open(\"full_train_DG1_random_batch_jake_params_2_loss.pickle\", \"rb\"))\n",
    "loss_jake_3 = pickle.load(open(\"full_train_DG1_random_batch_jake_params_3_loss.pickle\", \"rb\"))"
   ]
  },
  {
   "cell_type": "code",
   "execution_count": 50,
   "id": "299ee9f9",
   "metadata": {},
   "outputs": [
    {
     "data": {
      "text/plain": [
       "<matplotlib.legend.Legend at 0x7f7755abaf10>"
      ]
     },
     "execution_count": 50,
     "metadata": {},
     "output_type": "execute_result"
    },
    {
     "data": {
      "image/png": "[encoded data removed]",
      "text/plain": [
       "<Figure size 640x480 with 1 Axes>"
      ]
     },
     "metadata": {},
     "output_type": "display_data"
    }
   ],
   "source": [
    "fig, ax = plt.subplots()\n",
    "\n",
    "x_axis = range(1,31)\n",
    "ax.plot(x_axis, loss_orig, label = \"Original Parameters\", color = \"black\", marker = \"o\", markerfacecolor = \"None\")\n",
    "ax.plot(x_axis, loss_jake_1, label = \"Jake 1 Parameters\", color = \"blue\", marker = \"o\", markerfacecolor = \"None\")\n",
    "ax.plot(x_axis, loss_jake_2, label = \"Jake 2 Parameters\", color = \"green\", marker = \"o\", markerfacecolor = \"None\")\n",
    "ax.plot(x_axis, loss_jake_3, label = \"Jake 3 Parameters\", color = \"purple\", marker = \"o\", markerfacecolor = \"None\")\n",
    "ax.set_xlabel(\"Epoch\")\n",
    "ax.set_ylabel(\"Loss\")\n",
    "plt.title(\"Loss for Various Model Attempts\")\n",
    "plt.legend()"
   ]
  },
  {
   "cell_type": "markdown",
   "id": "5ff9c873",
   "metadata": {},
   "source": [
    "# Looking at the chosen best model repeated with all data folds"
   ]
  },
  {
   "cell_type": "markdown",
   "id": "6a765d20",
   "metadata": {},
   "source": [
    "## Testing the models on their test sets"
   ]
  },
  {
   "cell_type": "code",
   "execution_count": 42,
   "id": "fae46bb2",
   "metadata": {},
   "outputs": [
    {
     "name": "stdout",
     "output_type": "stream",
     "text": [
      "6275\n",
      "    Total params: 9.5805500000M\n"
     ]
    }
   ],
   "source": [
    "## Jake Parameters 2 - Test 1\n",
    "\n",
    "params = {\n",
    "    'F' : 'example',\n",
    "    'mode' : '3',\n",
    "    'gpu' : '0',\n",
    "    'batch_size' : 32,\n",
    "    'num_workers' : 7,\n",
    "    'n_graph_layer' : 3,\n",
    "    'd_graph_layer' : 1024,\n",
    "    'n_FC_layer' : 4,\n",
    "    'd_FC_layer' : 128,\n",
    "    'initial_mu' : 0.0,\n",
    "    'initial_dev' : 1.0,\n",
    "    'dropout_rate' : 0.3,\n",
    "    'seed' : 888,\n",
    "    'fold' : -1,\n",
    "    'receptor_units' : 1,\n",
    "}\n",
    "\n",
    "\n",
    "model_path = \"/mnt/c/Users/jaket/Documents/GNN_DOVE_DATA/full_train_DG1_random_batch_jake_params_2.pt\"\n",
    "input_path = \"/mnt/d/dockground_1_processed_npz\"\n",
    "test_list_1, preds_1, y_1 = test_falcon_gnn(input_path, params, model_path)"
   ]
  },
  {
   "cell_type": "code",
   "execution_count": 44,
   "id": "d2416049",
   "metadata": {},
   "outputs": [
    {
     "name": "stdout",
     "output_type": "stream",
     "text": [
      "6275\n",
      "    Total params: 9.5805500000M\n"
     ]
    }
   ],
   "source": [
    "## Jake Parameters 2 - Test 2\n",
    "\n",
    "params = {\n",
    "    'F' : 'example',\n",
    "    'mode' : '3',\n",
    "    'gpu' : '0',\n",
    "    'batch_size' : 32,\n",
    "    'num_workers' : 7,\n",
    "    'n_graph_layer' : 3,\n",
    "    'd_graph_layer' : 1024,\n",
    "    'n_FC_layer' : 4,\n",
    "    'd_FC_layer' : 128,\n",
    "    'initial_mu' : 0.0,\n",
    "    'initial_dev' : 1.0,\n",
    "    'dropout_rate' : 0.3,\n",
    "    'seed' : 888,\n",
    "    'fold' : -1,\n",
    "    'receptor_units' : 1,\n",
    "}\n",
    "\n",
    "\n",
    "model_path = \"/mnt/c/Users/jaket/Documents/GNN_DOVE_DATA/DG1_random_batch_jake_params_2_run_2.pt\"\n",
    "input_path = \"/mnt/d/dockground_1_processed_npz\"\n",
    "test_list_2, preds_2, y_2 = test_falcon_gnn(input_path, params, model_path)"
   ]
  },
  {
   "cell_type": "code",
   "execution_count": 46,
   "id": "fda22191",
   "metadata": {},
   "outputs": [
    {
     "name": "stdout",
     "output_type": "stream",
     "text": [
      "6275\n",
      "    Total params: 9.5805500000M\n"
     ]
    }
   ],
   "source": [
    "## Jake Parameters 2 - Test 3\n",
    "\n",
    "params = {\n",
    "    'F' : 'example',\n",
    "    'mode' : '3',\n",
    "    'gpu' : '0',\n",
    "    'batch_size' : 32,\n",
    "    'num_workers' : 7,\n",
    "    'n_graph_layer' : 3,\n",
    "    'd_graph_layer' : 1024,\n",
    "    'n_FC_layer' : 4,\n",
    "    'd_FC_layer' : 128,\n",
    "    'initial_mu' : 0.0,\n",
    "    'initial_dev' : 1.0,\n",
    "    'dropout_rate' : 0.3,\n",
    "    'seed' : 888,\n",
    "    'fold' : -1,\n",
    "    'receptor_units' : 1,\n",
    "}\n",
    "\n",
    "\n",
    "model_path = \"/mnt/c/Users/jaket/Documents/GNN_DOVE_DATA/DG1_random_batch_jake_params_2_run_3.pt\"\n",
    "input_path = \"/mnt/d/dockground_1_processed_npz\"\n",
    "test_list_3, preds_3, y_3 = test_falcon_gnn(input_path, params, model_path)"
   ]
  },
  {
   "cell_type": "code",
   "execution_count": 48,
   "id": "74bd6d39",
   "metadata": {},
   "outputs": [
    {
     "name": "stdout",
     "output_type": "stream",
     "text": [
      "6275\n",
      "    Total params: 9.5805500000M\n"
     ]
    }
   ],
   "source": [
    "## Jake Parameters 2 - Test 4\n",
    "\n",
    "params = {\n",
    "    'F' : 'example',\n",
    "    'mode' : '3',\n",
    "    'gpu' : '0',\n",
    "    'batch_size' : 32,\n",
    "    'num_workers' : 7,\n",
    "    'n_graph_layer' : 3,\n",
    "    'd_graph_layer' : 1024,\n",
    "    'n_FC_layer' : 4,\n",
    "    'd_FC_layer' : 128,\n",
    "    'initial_mu' : 0.0,\n",
    "    'initial_dev' : 1.0,\n",
    "    'dropout_rate' : 0.3,\n",
    "    'seed' : 888,\n",
    "    'fold' : -1,\n",
    "    'receptor_units' : 1,\n",
    "}\n",
    "\n",
    "\n",
    "model_path = \"/mnt/c/Users/jaket/Documents/GNN_DOVE_DATA/DG1_random_batch_jake_params_2_run_4.pt\"\n",
    "input_path = \"/mnt/d/dockground_1_processed_npz\"\n",
    "test_list_4, preds_4, y_4 = test_falcon_gnn(input_path, params, model_path)"
   ]
  },
  {
   "cell_type": "code",
   "execution_count": 49,
   "id": "2b13d055",
   "metadata": {},
   "outputs": [],
   "source": [
    "## Calculating the Top Ranks:\n",
    "\n",
    "test1_ranks = get_ranks(get_ordered_list(test_list_1, preds_1, y_1))\n",
    "test2_ranks = get_ranks(get_ordered_list(test_list_2, preds_2, y_2))\n",
    "test3_ranks = get_ranks(get_ordered_list(test_list_3, preds_3, y_3))\n",
    "test4_ranks = get_ranks(get_ordered_list(test_list_4, preds_4, y_4))"
   ]
  },
  {
   "cell_type": "code",
   "execution_count": 50,
   "id": "eb2c56b0",
   "metadata": {},
   "outputs": [
    {
     "name": "stdout",
     "output_type": "stream",
     "text": [
      "[('1akj', 1), ('1dfj', 79), ('1ewy', 3), ('1gpw', 66), ('1hxy', 1), ('1nbf', 1), ('1p7q', 1), ('1r4m', 6), ('1u7f', 2), ('1uex', 2), ('1xd3', 1), ('1zy8', 3), ('2bkr', 1), ('2bnq', 1)]\n"
     ]
    }
   ],
   "source": [
    "print(test1_ranks)"
   ]
  },
  {
   "cell_type": "code",
   "execution_count": 51,
   "id": "427a1c78",
   "metadata": {},
   "outputs": [
    {
     "name": "stdout",
     "output_type": "stream",
     "text": [
      "[('1a2k', 1), ('1e96', 4), ('1f6m', 1), ('1g20', 1), ('1he1', 1), ('1he8', 1), ('1ku6', 1), ('1ma9', 1), ('1t6g', 1), ('1ugh', 2), ('1wq1', 1), ('1yvb', 1), ('2btf', 1), ('2ckh', 1)]\n"
     ]
    }
   ],
   "source": [
    "print(test2_ranks)"
   ]
  },
  {
   "cell_type": "code",
   "execution_count": 52,
   "id": "58fce582",
   "metadata": {},
   "outputs": [
    {
     "name": "stdout",
     "output_type": "stream",
     "text": [
      "[('1a2y', 1), ('1bvn', 15), ('1f51', 1), ('1fm9', 11), ('1g6v', 1), ('1gpq', 3), ('1jps', 1), ('1s6v', 1), ('1tmq', 1), ('1w1i', 1), ('1wej', 1), ('2a5t', 17)]\n"
     ]
    }
   ],
   "source": [
    "print(test3_ranks)"
   ]
  },
  {
   "cell_type": "code",
   "execution_count": 53,
   "id": "9312c23a",
   "metadata": {},
   "outputs": [
    {
     "name": "stdout",
     "output_type": "stream",
     "text": [
      "[('1avw', 1), ('1bth', 21), ('1bui', 1), ('1cho', 1), ('1ezu', 2), ('1ook', 2), ('1oph', 1), ('1ppf', 1), ('1r0r', 1), ('1tx6', 1), ('1xx9', 16), ('2fi4', 1), ('2kai', 1), ('2sni', 1)]\n"
     ]
    }
   ],
   "source": [
    "print(test4_ranks)"
   ]
  },
  {
   "cell_type": "code",
   "execution_count": 65,
   "id": "004fb682",
   "metadata": {},
   "outputs": [
    {
     "data": {
      "text/plain": [
       "<matplotlib.legend.Legend at 0x7f06c0116e80>"
      ]
     },
     "execution_count": 65,
     "metadata": {},
     "output_type": "execute_result"
    },
    {
     "data": {
      "image/png": "[encoded data removed]",
      "text/plain": [
       "<Figure size 640x480 with 1 Axes>"
      ]
     },
     "metadata": {},
     "output_type": "display_data"
    }
   ],
   "source": [
    "## Plotting the hit rate\n",
    "\n",
    "def plot_cdf(fig, ax, data, bins, label = None, color = \"black\"):\n",
    "    '''\n",
    "    Plots the CDF\n",
    "    '''\n",
    "    count, bins_count = np.histogram(data, bins=bins)\n",
    "    pdf = count / sum(count)\n",
    "    cdf = np.cumsum(pdf)\n",
    "    ax.plot(bins_count[1:], cdf, label=label, color = color)\n",
    "\n",
    "fig,ax = plt.subplots()\n",
    "bins = list(range(0, 51))\n",
    "plot_cdf(fig, ax, [ele[1] for ele in test1_ranks], bins, label = \"FALCON Run 1\", color = \"red\")\n",
    "plot_cdf(fig, ax, [ele[1] for ele in test2_ranks], bins, label = \"FALCON Run 2\", color = \"gold\")\n",
    "plot_cdf(fig, ax, [ele[1] for ele in test3_ranks], bins, label = \"FALCON Run 3\", color = \"black\")\n",
    "plot_cdf(fig, ax, [ele[1] for ele in test4_ranks], bins, label = \"FALCON Run 4\", color = \"purple\")\n",
    "\n",
    "plt.ylabel(\"Hit Rate\", fontsize = 13)\n",
    "plt.xlabel(\"Top Ranks Considered\", fontsize = 13)\n",
    "plt.title(\"Hit Rate Plots for FALCON-GNN\", fontsize = 16)\n",
    "plt.legend()"
   ]
  },
  {
   "cell_type": "code",
   "execution_count": 74,
   "id": "7fb36f1a",
   "metadata": {},
   "outputs": [],
   "source": [
    "## Reading in Data from original figure\n",
    "\n",
    "\n",
    "def read_in_csv(csv_file):\n",
    "    X, Y = [], []\n",
    "    for line in open(csv_file, \"r\"):\n",
    "        temp_x, temp_y = round(float(line.split(\",\")[0])), float(line.split(\",\")[1])\n",
    "        X.append(temp_x)\n",
    "        Y.append(temp_y)\n",
    "    Y[0] = 0\n",
    "    return X,Y\n",
    "\n",
    "os.chdir(\"/mnt/c/Users/jaket/Documents/GNN_DOVE_DATA/\")\n",
    "\n",
    "a_x, a_y = read_in_csv(\"dove_GNN_fig_A.csv\")\n",
    "b_x, b_y = read_in_csv(\"dove_GNN_fig_B.csv\")\n",
    "c_x, c_y = read_in_csv(\"dove_GNN_fig_C.csv\")\n",
    "d_x, d_y = read_in_csv(\"dove_GNN_fig_D.csv\")"
   ]
  },
  {
   "cell_type": "code",
   "execution_count": 75,
   "id": "b5ef52a6",
   "metadata": {},
   "outputs": [
    {
     "name": "stdout",
     "output_type": "stream",
     "text": [
      "[0, 0.732163743, 0.730359235, 0.800734766, 0.804343781, 0.867501315, 0.867501315]\n"
     ]
    }
   ],
   "source": [
    "print(a_y)"
   ]
  },
  {
   "cell_type": "code",
   "execution_count": 83,
   "id": "a3c755e8",
   "metadata": {},
   "outputs": [
    {
     "data": {
      "text/plain": [
       "<matplotlib.legend.Legend at 0x7f06ba3f9ee0>"
      ]
     },
     "execution_count": 83,
     "metadata": {},
     "output_type": "execute_result"
    },
    {
     "data": {
      "image/png": "[encoded data removed]",
      "text/plain": [
       "<Figure size 640x480 with 1 Axes>"
      ]
     },
     "metadata": {},
     "output_type": "display_data"
    }
   ],
   "source": [
    "## Plotting the hit rate\n",
    "\n",
    "def plot_cdf(fig, ax, data, bins, label = None, color = \"black\"):\n",
    "    '''\n",
    "    Plots the CDF\n",
    "    '''\n",
    "    count, bins_count = np.histogram(data, bins=bins)\n",
    "    pdf = count / sum(count)\n",
    "    cdf = np.cumsum(pdf)\n",
    "    ax.plot(bins_count[:-1], cdf, label=label, color = color)\n",
    "\n",
    "fig,ax = plt.subplots()\n",
    "bins = list(range(0, 51))\n",
    "plot_cdf(fig, ax, [ele[1] for ele in test2_ranks], bins, label = \"FALCON Fold 1\", color = \"red\")\n",
    "plot_cdf(fig, ax, [ele[1] for ele in test1_ranks], bins, label = \"FALCON Fold 2\", color = \"gold\")\n",
    "plot_cdf(fig, ax, [ele[1] for ele in test4_ranks], bins, label = \"FALCON Fold 3\", color = \"black\")\n",
    "plot_cdf(fig, ax, [ele[1] for ele in test3_ranks], bins, label = \"FALCON Fold 4\", color = \"purple\")\n",
    "\n",
    "ax.plot(a_x, a_y, label = \"DOVE Fold 1\", color = \"firebrick\", linestyle = \"--\")\n",
    "ax.plot(b_x, b_y, label = \"DOVE Fold 2\", color = \"orange\", linestyle = \"--\")\n",
    "ax.plot(c_x, c_y, label = \"DOVE Fold 3\", color = \"dimgray\", linestyle = \"--\")\n",
    "ax.plot(d_x, d_y, label = \"DOVE Fold 4\", color = \"darkviolet\", linestyle = \"--\")\n",
    "        \n",
    "plt.ylabel(\"Hit Rate\", fontsize = 13)\n",
    "plt.xlabel(\"Top Ranks Considered\", fontsize = 13)\n",
    "plt.title(\"Hit Rate Plots for FALCON-GNN\", fontsize = 16)\n",
    "plt.legend()"
   ]
  },
  {
   "cell_type": "code",
   "execution_count": 79,
   "id": "99f33b64",
   "metadata": {},
   "outputs": [
    {
     "data": {
      "text/plain": [
       "[1, 4, 1, 1, 1, 1, 1, 1, 1, 2, 1, 1, 1, 1]"
      ]
     },
     "execution_count": 79,
     "metadata": {},
     "output_type": "execute_result"
    }
   ],
   "source": [
    "[ele[1] for ele in test2_ranks]"
   ]
  },
  {
   "cell_type": "code",
   "execution_count": 84,
   "id": "9596b3df",
   "metadata": {},
   "outputs": [],
   "source": [
    "os.chdir(\"/mnt/c/Users/jaket/Documents/GNN_DOVE_DATA/\")\n",
    "loss_test_1 = pickle.load(open(\"DG1_random_batch_jake_params_2_run_2_loss.pickle\", \"rb\"))\n",
    "loss_test_2 = pickle.load(open(\"full_train_DG1_random_batch_jake_params_2_loss.pickle\", \"rb\"))\n",
    "loss_test_3 = pickle.load(open(\"DG1_random_batch_jake_params_2_run_4_loss.pickle\", \"rb\"))\n",
    "loss_test_4 = pickle.load(open(\"DG1_random_batch_jake_params_2_run_3_loss.pickle\", \"rb\"))"
   ]
  },
  {
   "cell_type": "code",
   "execution_count": 88,
   "id": "1e7fbcf9",
   "metadata": {},
   "outputs": [
    {
     "data": {
      "text/plain": [
       "<matplotlib.legend.Legend at 0x7f06b9f1f3d0>"
      ]
     },
     "execution_count": 88,
     "metadata": {},
     "output_type": "execute_result"
    },
    {
     "data": {
      "image/png": "[encoded data removed]",
      "text/plain": [
       "<Figure size 640x480 with 1 Axes>"
      ]
     },
     "metadata": {},
     "output_type": "display_data"
    }
   ],
   "source": [
    "fig, ax = plt.subplots()\n",
    "\n",
    "x_axis = range(1,31)\n",
    "ax.plot(x_axis, loss_test_1, label = \"FALCON Fold 1\", color = \"red\", marker = \"o\", markerfacecolor = \"None\")\n",
    "ax.plot(x_axis, loss_test_2, label = \"FALCON Fold 2\", color = \"gold\", marker = \"o\", markerfacecolor = \"None\")\n",
    "ax.plot(x_axis, loss_test_3, label = \"FALCON Fold 3\", color = \"black\", marker = \"o\", markerfacecolor = \"None\")\n",
    "ax.plot(x_axis, loss_test_4, label = \"FALCON Fold 4\", color = \"purple\", marker = \"o\", markerfacecolor = \"None\")\n",
    "plt.xlabel(\"Epoch\", fontsize = 13)\n",
    "plt.ylabel(\"Loss\", fontsize = 13)\n",
    "plt.title(\"Loss for Various Model Attempts\", fontsize = 16)\n",
    "plt.legend()"
   ]
  },
  {
   "cell_type": "markdown",
   "id": "96511ae6",
   "metadata": {},
   "source": [
    "## Getting the average rank for the acceptable models"
   ]
  },
  {
   "cell_type": "code",
   "execution_count": 115,
   "id": "c1766d44",
   "metadata": {},
   "outputs": [],
   "source": [
    "ordered_1 = get_ordered_list(test_list_2, preds_2, y_2)\n",
    "ordered_2 = get_ordered_list(test_list_1, preds_1, y_1)\n",
    "ordered_3 = get_ordered_list(test_list_4, preds_4, y_4)\n",
    "ordered_4 = get_ordered_list(test_list_3, preds_3, y_3)\n",
    "\n",
    "def get_average_acceptable_rank(ordered_list):\n",
    "    '''\n",
    "    Gets the average rank of acceptable models for each \n",
    "    individual target class\n",
    "    '''\n",
    "    average_ranks = []\n",
    "    for group in ordered_list:\n",
    "        temp_avg = []\n",
    "        temp_name = ''\n",
    "        for i, decoy in enumerate(group):\n",
    "            if decoy[2] == 1:\n",
    "                ## The structure is acceptable\n",
    "                temp_avg.append(i)\n",
    "                temp_name = decoy[1][:4]\n",
    "                print(temp_avg, temp_name)\n",
    "        average_ranks.append((temp_name, sum(temp_avg)/len(temp_avg)))\n",
    "        print(average_ranks)\n",
    "    return average_ranks"
   ]
  },
  {
   "cell_type": "code",
   "execution_count": 105,
   "id": "450f7908",
   "metadata": {},
   "outputs": [
    {
     "name": "stdout",
     "output_type": "stream",
     "text": [
      "[0] 1hxy\n",
      "[0, 1] 1hxy\n",
      "[('1hxy', 0.5)]\n"
     ]
    }
   ],
   "source": [
    "avg_rank_1 = get_average_acceptable_rank(ordered_1)"
   ]
  },
  {
   "cell_type": "code",
   "execution_count": 103,
   "id": "d8eb7036",
   "metadata": {},
   "outputs": [
    {
     "name": "stdout",
     "output_type": "stream",
     "text": [
      "[('1akj', 4.9), ('1dfj', 93.6), ('1ewy', 35.3), ('1gpw', 88.0), ('1hxy', 0.5), ('1nbf', 11.6), ('1p7q', 1.75), ('1r4m', 5.0), ('1u7f', 23.636363636363637), ('1uex', 1.0), ('1xd3', 7.1), ('1zy8', 35.3), ('2bkr', 9.818181818181818), ('2bnq', 0.0)]\n"
     ]
    }
   ],
   "source": [
    "print(avg_rank_1)"
   ]
  },
  {
   "cell_type": "code",
   "execution_count": 166,
   "id": "165f9c73",
   "metadata": {},
   "outputs": [],
   "source": [
    "## What about the percent acceptable model in the top 25 ranks?? -> That might be an easier metric that is less\n",
    "## Prone to bias based on the number of acceptable models per target!\n",
    "\n",
    "def get_top_x_percent_rank(ordered_list, x_rank = 25):\n",
    "    '''\n",
    "    Gets the percent of acceptable structures in the \n",
    "    top 25 ranks from the algorithm! Also does a\n",
    "    weighted average so that strutures with more\n",
    "    acceptable decoys are weighted a bit higher\n",
    "    since they are better examples of the code\n",
    "    working properly\n",
    "    '''\n",
    "    percent_list = []\n",
    "    for group in ordered_list:\n",
    "        temp_acceptable = []\n",
    "        temp_name = ''\n",
    "        for i, decoy in enumerate(group):\n",
    "            if decoy[2] == 1:\n",
    "                ## The structure is acceptable\n",
    "                temp_acceptable.append(i)\n",
    "                temp_name = decoy[1][:4]\n",
    "        percent_list.append((temp_name, len([num for num in temp_acceptable if num <= (x_rank-1)])/len(temp_acceptable), len(temp_acceptable)))\n",
    "    return percent_list"
   ]
  },
  {
   "cell_type": "code",
   "execution_count": 124,
   "id": "61e55117",
   "metadata": {},
   "outputs": [],
   "source": [
    "top_25_1 = get_top_x_percent_rank(ordered_1)\n",
    "top_25_2 = get_top_x_percent_rank(ordered_2)\n",
    "top_25_3 = get_top_x_percent_rank(ordered_3)\n",
    "top_25_4 = get_top_x_percent_rank(ordered_4)"
   ]
  },
  {
   "cell_type": "code",
   "execution_count": 125,
   "id": "b3c2cfae",
   "metadata": {},
   "outputs": [
    {
     "name": "stdout",
     "output_type": "stream",
     "text": [
      "[('1a2k', 1.0, 2), ('1e96', 0.7, 10), ('1f6m', 0.7, 10), ('1g20', 1.0, 10), ('1he1', 0.5384615384615384, 13), ('1he8', 1.0, 1), ('1ku6', 1.0, 10), ('1ma9', 0.9, 10), ('1t6g', 0.4, 65), ('1ugh', 0.25, 12), ('1wq1', 0.75, 12), ('1yvb', 1.0, 11), ('2btf', 1.0, 10), ('2ckh', 1.0, 10)]\n"
     ]
    }
   ],
   "source": [
    "print(top_25_1)"
   ]
  },
  {
   "cell_type": "code",
   "execution_count": 169,
   "id": "69cc5f4f",
   "metadata": {},
   "outputs": [
    {
     "name": "stdout",
     "output_type": "stream",
     "text": [
      "Average percent of acceptable models in top 25 ranks for Fold 1: 0.6559139784946237\n",
      "Average percent of acceptable models in top 25 ranks for Fold 2: 0.5596330275229358\n",
      "Average percent of acceptable models in top 25 ranks for Fold 3: 0.968503937007874\n",
      "Average percent of acceptable models in top 25 ranks for Fold 4: 0.7549019607843137\n"
     ]
    }
   ],
   "source": [
    "def get_weighted_average(top_25):\n",
    "    '''\n",
    "    Quick helper fxn\n",
    "    '''\n",
    "    final_mean = []\n",
    "    for ele in top_25:\n",
    "        final_mean += [ele[1]]*ele[2]\n",
    "    return np.mean(final_mean)\n",
    "\n",
    "print(f\"Average percent of acceptable models in top 25 ranks for Fold 1: {get_weighted_average(top_25_1)}\")\n",
    "print(f\"Average percent of acceptable models in top 25 ranks for Fold 2: {get_weighted_average(top_25_2)}\")\n",
    "print(f\"Average percent of acceptable models in top 25 ranks for Fold 3: {get_weighted_average(top_25_3)}\")\n",
    "print(f\"Average percent of acceptable models in top 25 ranks for Fold 4: {get_weighted_average(top_25_4)}\")"
   ]
  },
  {
   "cell_type": "code",
   "execution_count": 192,
   "id": "98b56d56",
   "metadata": {},
   "outputs": [
    {
     "name": "stdout",
     "output_type": "stream",
     "text": [
      "Average percent of acceptable models in top 50 ranks for Fold 1: 0.8225806451612904\n",
      "Average percent of acceptable models in top 50 ranks for Fold 2: 0.6788990825688074\n",
      "Average percent of acceptable models in top 50 ranks for Fold 3: 0.968503937007874\n",
      "Average percent of acceptable models in top 50 ranks for Fold 4: 0.8725490196078431\n"
     ]
    }
   ],
   "source": [
    "top_50_1 = get_top_x_percent_rank(ordered_1, x_rank = 50)\n",
    "top_50_2 = get_top_x_percent_rank(ordered_2, x_rank = 50)\n",
    "top_50_3 = get_top_x_percent_rank(ordered_3, x_rank = 50)\n",
    "top_50_4 = get_top_x_percent_rank(ordered_4, x_rank = 50)\n",
    "\n",
    "print(f\"Average percent of acceptable models in top 50 ranks for Fold 1: {get_weighted_average(top_50_1)}\")\n",
    "print(f\"Average percent of acceptable models in top 50 ranks for Fold 2: {get_weighted_average(top_50_2)}\")\n",
    "print(f\"Average percent of acceptable models in top 50 ranks for Fold 3: {get_weighted_average(top_50_3)}\")\n",
    "print(f\"Average percent of acceptable models in top 50 ranks for Fold 4: {get_weighted_average(top_50_4)}\")"
   ]
  },
  {
   "cell_type": "code",
   "execution_count": 193,
   "id": "e7df6c8d",
   "metadata": {},
   "outputs": [
    {
     "name": "stdout",
     "output_type": "stream",
     "text": [
      "Average percent of acceptable models in top 10 ranks for Fold 1: 0.41935483870967744\n",
      "Average percent of acceptable models in top 10 ranks for Fold 2: 0.36697247706422004\n",
      "Average percent of acceptable models in top 10 ranks for Fold 3: 0.7559055118110237\n",
      "Average percent of acceptable models in top 10 ranks for Fold 4: 0.6176470588235294\n"
     ]
    }
   ],
   "source": [
    "top_50_1 = get_top_x_percent_rank(ordered_1, x_rank = 10)\n",
    "top_50_2 = get_top_x_percent_rank(ordered_2, x_rank = 10)\n",
    "top_50_3 = get_top_x_percent_rank(ordered_3, x_rank = 10)\n",
    "top_50_4 = get_top_x_percent_rank(ordered_4, x_rank = 10)\n",
    "\n",
    "print(f\"Average percent of acceptable models in top 10 ranks for Fold 1: {get_weighted_average(top_50_1)}\")\n",
    "print(f\"Average percent of acceptable models in top 10 ranks for Fold 2: {get_weighted_average(top_50_2)}\")\n",
    "print(f\"Average percent of acceptable models in top 10 ranks for Fold 3: {get_weighted_average(top_50_3)}\")\n",
    "print(f\"Average percent of acceptable models in top 10 ranks for Fold 4: {get_weighted_average(top_50_4)}\")"
   ]
  },
  {
   "cell_type": "markdown",
   "id": "b5cfaa2c",
   "metadata": {},
   "source": [
    "# Testing the model on the Dockground Set 2 Dataset"
   ]
  },
  {
   "cell_type": "markdown",
   "id": "796d70ff",
   "metadata": {},
   "source": [
    "NOTE: If you are running this code, make sure that you modify the 'input_path' and 'model_path' for each of the folds to match wherever you stored the data on your own computer so that the code will run properly. Once those have been properly configured, you can run all of the code cells to get the output I got for Dockground Set 2 in the paper. "
   ]
  },
  {
   "cell_type": "code",
   "execution_count": 133,
   "id": "ce37e7e3",
   "metadata": {},
   "outputs": [],
   "source": [
    "def test_falcon_gnn_set2(input_path, params, model_path):\n",
    "    '''\n",
    "    For testing the Dockground set 2 dataset\n",
    "    '''\n",
    "    ## Get all the NPZ files from the input_path\n",
    "\n",
    "    list_npz = [f for f in listdir(input_path) if isfile(join(input_path, f)) and f.endswith(\".npz\")]\n",
    "    \n",
    "    test_data = Single_Dataset(list_npz)\n",
    "\n",
    "    BATCH_SIZE = 10\n",
    "\n",
    "\n",
    "    test_loader = DataLoader(test_data, BATCH_SIZE, shuffle=False,\n",
    "                            num_workers=params['num_workers'],\n",
    "                            drop_last=False, collate_fn=collate_fn_Jake)\n",
    "\n",
    "    ## Initialize Model from saved state\n",
    "    \n",
    "    model, device = init_model(model_path, params)\n",
    "    \n",
    "    ## Get predictions for the model\n",
    "    \n",
    "    os.chdir(input_path)\n",
    "    Y, Final_Pred = Get_Predictions(test_loader, device, model)\n",
    "     \n",
    "    return list_npz, Final_Pred, Y"
   ]
  },
  {
   "cell_type": "code",
   "execution_count": 195,
   "id": "44c05bee",
   "metadata": {},
   "outputs": [
    {
     "name": "stdout",
     "output_type": "stream",
     "text": [
      "    Total params: 9.5805500000M\n"
     ]
    }
   ],
   "source": [
    "## Jake Parameters 2 - Test 1\n",
    "\n",
    "params = {\n",
    "    'F' : 'example',\n",
    "    'mode' : '3',\n",
    "    'gpu' : '0',\n",
    "    'batch_size' : 32,\n",
    "    'num_workers' : 7,\n",
    "    'n_graph_layer' : 3,\n",
    "    'd_graph_layer' : 1024,\n",
    "    'n_FC_layer' : 4,\n",
    "    'd_FC_layer' : 128,\n",
    "    'initial_mu' : 0.0,\n",
    "    'initial_dev' : 1.0,\n",
    "    'dropout_rate' : 0.3,\n",
    "    'seed' : 888,\n",
    "    'fold' : -1,\n",
    "    'receptor_units' : 1,\n",
    "}\n",
    "\n",
    "\n",
    "model_path = \"/mnt/c/Users/jaket/Documents/GitHub/GNN_DOVE/best_model/FALCON_GNN_Fold_2_model.pt\"\n",
    "input_path = \"/mnt/c/Users/jaket/Documents/GNN_DOVE_DATA/dockground_set_2_npz\"\n",
    "set_2_list_1, set_2_preds_1, set_2_y_1 = test_falcon_gnn_set2(input_path, params, model_path)"
   ]
  },
  {
   "cell_type": "code",
   "execution_count": 198,
   "id": "28a51d64",
   "metadata": {},
   "outputs": [
    {
     "name": "stdout",
     "output_type": "stream",
     "text": [
      "    Total params: 9.5805500000M\n"
     ]
    }
   ],
   "source": [
    "## Jake Parameters 2 - Test 2\n",
    "\n",
    "model_path = \"/mnt/c/Users/jaket/Documents/GitHub/GNN_DOVE/best_model/FALCON_GNN_Fold_1_model.pt\"\n",
    "input_path = \"/mnt/c/Users/jaket/Documents/GNN_DOVE_DATA/dockground_set_2_npz\"\n",
    "set_2_list_2, set_2_preds_2, set_2_y_2 = test_falcon_gnn_set2(input_path, params, model_path)"
   ]
  },
  {
   "cell_type": "code",
   "execution_count": 199,
   "id": "ace40f65",
   "metadata": {},
   "outputs": [
    {
     "name": "stdout",
     "output_type": "stream",
     "text": [
      "    Total params: 9.5805500000M\n"
     ]
    }
   ],
   "source": [
    "## Jake Parameters 2 - Test 3\n",
    "\n",
    "model_path = \"/mnt/c/Users/jaket/Documents/GitHub/GNN_DOVE/best_model/FALCON_GNN_Fold_4_model.pt\"\n",
    "input_path = \"/mnt/c/Users/jaket/Documents/GNN_DOVE_DATA/dockground_set_2_npz\"\n",
    "set_2_list_3, set_2_preds_3, set_2_y_3 = test_falcon_gnn_set2(input_path, params, model_path)"
   ]
  },
  {
   "cell_type": "code",
   "execution_count": 200,
   "id": "c02558e6",
   "metadata": {},
   "outputs": [
    {
     "name": "stdout",
     "output_type": "stream",
     "text": [
      "    Total params: 9.5805500000M\n"
     ]
    }
   ],
   "source": [
    "## Jake Parameters 2 - Test 4\n",
    "\n",
    "model_path = \"/mnt/c/Users/jaket/Documents/GitHub/GNN_DOVE/best_model/FALCON_GNN_Fold_3_model.pt\"\n",
    "input_path = \"/mnt/c/Users/jaket/Documents/GNN_DOVE_DATA/dockground_set_2_npz\"\n",
    "set_2_list_4, set_2_preds_4, set_2_y_4 = test_falcon_gnn_set2(input_path, params, model_path)"
   ]
  },
  {
   "cell_type": "code",
   "execution_count": 201,
   "id": "1bbc6e8e",
   "metadata": {},
   "outputs": [],
   "source": [
    "## Getting the models grouped logically\n",
    "\n",
    "def get_set2_groups(set_list, preds, y):\n",
    "    '''\n",
    "    Groups set 2 into subsets of 7 structures for analysis\n",
    "    '''\n",
    "    group_list = []\n",
    "    group_name = set_list[0][:4]\n",
    "    temp_list = []\n",
    "    for i, file in enumerate(set_list):\n",
    "        if i%7 == 0 and i != 0:\n",
    "            ## Logic for a new subset\n",
    "            group_name = file\n",
    "            temp_list.sort()\n",
    "            temp_list = temp_list[::-1]\n",
    "            group_list.append(temp_list)\n",
    "            temp_list = []\n",
    "        temp_list.append((preds[i], file, y[i]))\n",
    "    return group_list\n",
    "        "
   ]
  },
  {
   "cell_type": "code",
   "execution_count": 202,
   "id": "bf8897ce",
   "metadata": {},
   "outputs": [],
   "source": [
    "ordered_set2_2 = get_set2_groups(set_2_list_1, set_2_preds_1, set_2_y_1)\n",
    "ordered_set2_1 = get_set2_groups(set_2_list_2, set_2_preds_2, set_2_y_2)\n",
    "ordered_set2_4 = get_set2_groups(set_2_list_3, set_2_preds_3, set_2_y_3)\n",
    "ordered_set2_3 = get_set2_groups(set_2_list_4, set_2_preds_4, set_2_y_4)"
   ]
  },
  {
   "cell_type": "code",
   "execution_count": 203,
   "id": "27c6b986",
   "metadata": {},
   "outputs": [],
   "source": [
    "## Get the percent of models in the top 4\n",
    "\n",
    "top_4_1 = get_top_x_percent_rank(ordered_set2_1, x_rank = 3)\n",
    "top_4_2 = get_top_x_percent_rank(ordered_set2_2, x_rank = 3)\n",
    "top_4_3 = get_top_x_percent_rank(ordered_set2_3, x_rank = 3)\n",
    "top_4_4 = get_top_x_percent_rank(ordered_set2_4, x_rank = 3)\n"
   ]
  },
  {
   "cell_type": "code",
   "execution_count": 204,
   "id": "85d89e52",
   "metadata": {},
   "outputs": [
    {
     "name": "stdout",
     "output_type": "stream",
     "text": [
      "Average percent of acceptable models in top 3 ranks for Fold 1: 0.49230769230769234\n",
      "Average percent of acceptable models in top 3 ranks for Fold 2: 0.48923076923076925\n",
      "Average percent of acceptable models in top 3 ranks for Fold 3: 0.49230769230769234\n",
      "Average percent of acceptable models in top 3 ranks for Fold 4: 0.5\n"
     ]
    }
   ],
   "source": [
    "print(f\"Average percent of acceptable models in top 3 ranks for Fold 1: {get_weighted_average(top_4_1)}\")\n",
    "print(f\"Average percent of acceptable models in top 3 ranks for Fold 2: {get_weighted_average(top_4_2)}\")\n",
    "print(f\"Average percent of acceptable models in top 3 ranks for Fold 3: {get_weighted_average(top_4_3)}\")\n",
    "print(f\"Average percent of acceptable models in top 3 ranks for Fold 4: {get_weighted_average(top_4_4)}\")"
   ]
  },
  {
   "cell_type": "code",
   "execution_count": 205,
   "id": "2608cad3",
   "metadata": {},
   "outputs": [
    {
     "name": "stdout",
     "output_type": "stream",
     "text": [
      "[(0.73475754, '1a9n0A_4AB.npz', tensor(0.)), (0.64594465, '1a9n0A_5AB.npz', tensor(0.)), (0.10484636, '1a9n0A_6AB.npz', tensor(0.)), (0.028357565, '1a9n0A_3AB.npz', tensor(1.)), (0.0015427691, '1a9n0A_2AB.npz', tensor(1.)), (0.00062141416, '1a9n0A_1AB.npz', tensor(1.)), (0.00038021334, '1a9n0A_0AB.npz', tensor(1.))]\n"
     ]
    }
   ],
   "source": [
    "print(ordered_set2_2[0])"
   ]
  },
  {
   "cell_type": "code",
   "execution_count": 206,
   "id": "d7292766",
   "metadata": {},
   "outputs": [],
   "source": [
    "## In this case I have a best model, so I could go ahead and see the accuracy of the program predicting the 'best' model\n",
    "\n",
    "def get_best_model_acc(ordered_set):\n",
    "    '''\n",
    "    Checks to see if the ordered set contains the top\n",
    "    ranked model for set 2\n",
    "    '''\n",
    "    num_list = []\n",
    "    for group in ordered_set:\n",
    "        if group[0][1][7] == \"0\":\n",
    "            ## It is the best ranking model for the group\n",
    "            num_list.append(1)\n",
    "        else:\n",
    "            num_list.append(0)\n",
    "    return(np.mean(num_list))"
   ]
  },
  {
   "cell_type": "code",
   "execution_count": 207,
   "id": "0ffeab65",
   "metadata": {},
   "outputs": [],
   "source": [
    "acc_1 = get_best_model_acc(ordered_set2_1)\n",
    "acc_2 = get_best_model_acc(ordered_set2_2)\n",
    "acc_3 = get_best_model_acc(ordered_set2_3)\n",
    "acc_4 = get_best_model_acc(ordered_set2_4)"
   ]
  },
  {
   "cell_type": "code",
   "execution_count": 208,
   "id": "33c7bd00",
   "metadata": {},
   "outputs": [
    {
     "name": "stdout",
     "output_type": "stream",
     "text": [
      "Accuracy of scoring best model first for Fold 1: 0.26993865030674846\n",
      "Accuracy of scoring best model first for Fold 2: 0.20245398773006135\n",
      "Accuracy of scoring best model first for Fold 3: 0.2392638036809816\n",
      "Accuracy of scoring best model first for Fold 4: 0.2147239263803681\n"
     ]
    }
   ],
   "source": [
    "print(f\"Accuracy of scoring best model first for Fold 1: {acc_1}\")\n",
    "print(f\"Accuracy of scoring best model first for Fold 2: {acc_2}\")\n",
    "print(f\"Accuracy of scoring best model first for Fold 3: {acc_3}\")\n",
    "print(f\"Accuracy of scoring best model first for Fold 4: {acc_4}\")"
   ]
  },
  {
   "cell_type": "code",
   "execution_count": 209,
   "id": "2d009df4",
   "metadata": {},
   "outputs": [
    {
     "name": "stdout",
     "output_type": "stream",
     "text": [
      "Accuracy for all 4 models being in the top 4 for Fold 1 0.12269938650306748\n",
      "Accuracy for all 4 models being in the top 4 for Fold 2 0.13496932515337423\n",
      "Accuracy for all 4 models being in the top 4 for Fold 3 0.1411042944785276\n",
      "Accuracy for all 4 models being in the top 4 for Fold 4 0.13496932515337423\n"
     ]
    }
   ],
   "source": [
    "## Checking to see what percent has all 4 in the top 4 - any order!\n",
    "## Showing that the acceptable models are consistently scored better than the unacceptable models\n",
    "\n",
    "acc_top_4_1 = get_top_x_percent_rank(ordered_set2_1, x_rank = 4)\n",
    "acc_top_4_2 = get_top_x_percent_rank(ordered_set2_2, x_rank = 4)\n",
    "acc_top_4_3 = get_top_x_percent_rank(ordered_set2_3, x_rank = 4)\n",
    "acc_top_4_4 = get_top_x_percent_rank(ordered_set2_4, x_rank = 4)\n",
    "\n",
    "print(f\"Accuracy for all 4 models being in the top 4 for Fold 1 {sum([1 for ele in acc_top_4_1 if ele[1] == 1])/len(acc_top_4_1)}\")\n",
    "print(f\"Accuracy for all 4 models being in the top 4 for Fold 2 {sum([1 for ele in acc_top_4_2 if ele[1] == 1])/len(acc_top_4_2)}\")\n",
    "print(f\"Accuracy for all 4 models being in the top 4 for Fold 3 {sum([1 for ele in acc_top_4_3 if ele[1] == 1])/len(acc_top_4_3)}\")\n",
    "print(f\"Accuracy for all 4 models being in the top 4 for Fold 4 {sum([1 for ele in acc_top_4_4 if ele[1] == 1])/len(acc_top_4_4)}\")"
   ]
  },
  {
   "cell_type": "code",
   "execution_count": null,
   "id": "9c32966e",
   "metadata": {},
   "outputs": [],
   "source": []
  }
 ],
 "metadata": {
  "kernelspec": {
   "display_name": "Python 3 (ipykernel)",
   "language": "python",
   "name": "python3"
  },
  "language_info": {
   "codemirror_mode": {
    "name": "ipython",
    "version": 3
   },
   "file_extension": ".py",
   "mimetype": "text/x-python",
   "name": "python",
   "nbconvert_exporter": "python",
   "pygments_lexer": "ipython3",
   "version": "3.8.15"
  }
 },
 "nbformat": 4,
 "nbformat_minor": 5
}
