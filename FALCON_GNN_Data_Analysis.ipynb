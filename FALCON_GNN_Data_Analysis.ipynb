{
 "cells": [
  {
   "cell_type": "code",
   "execution_count": 1,
   "id": "232b26f9",
   "metadata": {},
   "outputs": [],
   "source": [
    "import torch\n",
    "import torch.nn as nn\n",
    "import numpy as np\n",
    "import matplotlib.pyplot as plt\n",
    "import os\n",
    "from os import listdir\n",
    "from os.path import isfile, join\n",
    "from ops.os_operation import mkdir\n",
    "import shutil\n",
    "import  numpy as np\n",
    "from data_processing.Prepare_Input import Prepare_Input\n",
    "from data_processing.Single_Dataset import Single_Dataset\n",
    "from torch.utils.data import DataLoader\n",
    "from data_processing.collate_fn import collate_fn_Jake\n",
    "from torch.utils.data import DataLoader\n",
    "import pickle"
   ]
  },
  {
   "cell_type": "code",
   "execution_count": 41,
   "id": "726ca90e",
   "metadata": {},
   "outputs": [],
   "source": [
    "import torch\n",
    "import torch.nn.functional as F\n",
    "import torch.nn as nn\n",
    "import time\n",
    "from multiprocessing import Pool\n",
    "from model.layers import GAT_gate\n",
    "\n",
    "N_atom_features = 28\n",
    "\n",
    "class GNN_Model(nn.Module):\n",
    "    def __init__(self, params):\n",
    "        super(GNN_Model, self).__init__()\n",
    "        n_graph_layer = params['n_graph_layer']\n",
    "        d_graph_layer = params['d_graph_layer']\n",
    "        n_FC_layer = params['n_FC_layer']\n",
    "        d_FC_layer = params['d_FC_layer']\n",
    "        self.dropout_rate = params['dropout_rate']\n",
    "\n",
    "\n",
    "        self.layers1 = [d_graph_layer for i in range(n_graph_layer +1)]\n",
    "        self.gconv1 = nn.ModuleList \\\n",
    "            ([GAT_gate(self.layers1[i], self.layers1[ i +1]) for i in range(len(self.layers1 ) -1)])\n",
    "\n",
    "#         Original\n",
    "#         self.FC = nn.ModuleList([nn.Linear(self.layers1[-1], d_FC_layer) if i== 0 else\n",
    "#                                  nn.Linear(d_FC_layer, 1) if i == n_FC_layer - 1 else\n",
    "#                                  nn.Linear(d_FC_layer, d_FC_layer) for i in range(n_FC_layer)])\n",
    "\n",
    "#         Jake params 1\n",
    "#         self.FC = nn.ModuleList([nn.Linear(self.layers1[-1], 300),\n",
    "#                                  nn.Linear(300, 200),\n",
    "#                                  nn.Linear(200, 1)\n",
    "#                                  ])\n",
    "\n",
    "#         Jake params 2\n",
    "        self.FC = nn.ModuleList([nn.Linear(self.layers1[-1], 2048),\n",
    "                                 nn.Linear(2048, 512),\n",
    "                                 nn.Linear(512, 256),\n",
    "                                 nn.Linear(256, 1)\n",
    "                                 ])\n",
    "\n",
    "#         Jake params 3\n",
    "#         self.FC = nn.ModuleList([nn.Linear(self.layers1[-1], 2048),\n",
    "#                                  nn.Linear(2048, 512),\n",
    "#                                  nn.Linear(512, 256),\n",
    "#                                  nn.Linear(256, 1)\n",
    "#                                  ])\n",
    "\n",
    "        self.mu = nn.Parameter(torch.Tensor([params['initial_mu']]).float())\n",
    "        self.dev = nn.Parameter(torch.Tensor([params['initial_dev']]).float())\n",
    "        #self.embede = nn.Linear(2 * N_atom_features, d_graph_layer, bias=False)\n",
    "        self.params=params\n",
    "\n",
    "\n",
    "\n",
    "    def fully_connected(self, c_hs):\n",
    "        regularization = torch.empty(len(self.FC) * 1 - 1, device=c_hs.device)\n",
    "        act_fn = nn.LeakyReLU(0.2)\n",
    "\n",
    "        for k in range(len(self.FC)):\n",
    "            # c_hs = self.FC[k](c_hs)\n",
    "            if k < len(self.FC) - 1:\n",
    "                c_hs = self.FC[k](c_hs)\n",
    "                c_hs = F.dropout(c_hs, p=self.dropout_rate, training=self.training)\n",
    "                # c_hs = F.relu(c_hs)\n",
    "                c_hs = act_fn(c_hs)\n",
    "            else:\n",
    "                c_hs = self.FC[k](c_hs)\n",
    "\n",
    "        c_hs = torch.sigmoid(c_hs)\n",
    "\n",
    "        return c_hs\n",
    "    def Formulate_Adj2(self,c_adjs2,c_valid,atom_list,device):\n",
    "        study_distance = c_adjs2.clone().detach().to(device)  # only focused on where there exist atoms, ignore the area filled with 0\n",
    "        study_distance = torch.exp(-torch.pow(study_distance - self.mu.expand_as(study_distance), 2) / self.dev)\n",
    "        filled_value = torch.Tensor([0]).expand_as(study_distance).to(device)\n",
    "        for batch_idx in range(len(c_adjs2)):\n",
    "            num_atoms = int(atom_list[batch_idx])\n",
    "            count_receptor = len(c_valid[batch_idx].nonzero())\n",
    "            c_adjs2[batch_idx,:count_receptor,count_receptor:num_atoms]=torch.where(c_adjs2[batch_idx,:count_receptor,count_receptor:num_atoms]<=20,study_distance[batch_idx,:count_receptor,count_receptor:num_atoms],filled_value[batch_idx,:count_receptor,count_receptor:num_atoms])\n",
    "            c_adjs2[batch_idx,count_receptor:num_atoms,:count_receptor]=c_adjs2[batch_idx,:count_receptor,count_receptor:num_atoms].t()\n",
    "        return c_adjs2\n",
    "\n",
    "    def get_attention_weight(self,data):\n",
    "        c_hs, c_adjs1, c_adjs2 = data\n",
    "        atten1,c_hs1 = self.gconv1[0](c_hs, c_adjs1,request_attention=True)  # filled 0 part will not effect other parts\n",
    "        atten2,c_hs2 = self.gconv1[0](c_hs, c_adjs2,request_attention=True)\n",
    "        return atten1,atten2\n",
    "    def embede_graph(self, data):\n",
    "        \"\"\"\n",
    "\n",
    "        :param data:\n",
    "        :return: c_hs:batch_size*max_atoms\n",
    "        \"\"\"\n",
    "        c_hs, c_adjs1, c_adjs2= data\n",
    "        regularization = torch.empty(len(self.gconv1), device=c_hs.device)\n",
    "\n",
    "        for k in range(len(self.gconv1)):\n",
    "            c_hs1 = self.gconv1[k](c_hs, c_adjs1)#filled 0 part will not effect other parts\n",
    "            c_hs2 = self.gconv1[k](c_hs, c_adjs2)\n",
    "            c_hs = c_hs2 - c_hs1\n",
    "            c_hs = F.dropout(c_hs, p=self.dropout_rate, training=self.training)\n",
    "        #c_hs = c_hs.sum(1)\n",
    "        return c_hs\n",
    "    def Get_Prediction(self,c_hs,atom_list):\n",
    "        prediction=[]\n",
    "        for batch_idx in range(len(atom_list)):\n",
    "            num_atoms = int(atom_list[batch_idx])\n",
    "            tmp_pred=c_hs[batch_idx,:num_atoms]\n",
    "            \n",
    "            ## POOLING METHOD:\n",
    "            # tmp_pred=tmp_pred.sum(0)#sum all the used atoms\n",
    "            tmp_pred=tmp_pred.mean(0) ## Average all the used atoms\n",
    "            \n",
    "            \n",
    "            #if self.params['debug']:\n",
    "            #    print(\"pred feature size\",tmp_pred.size())\n",
    "            prediction.append(tmp_pred)\n",
    "        prediction = torch.stack(prediction, 0)\n",
    "        return prediction\n",
    "    def train_model(self,data,device):\n",
    "        #get data\n",
    "        c_hs, c_adjs1, c_adjs2, c_valid, num_atoms = data\n",
    "        #c_hs = self.embede(c_hs)\n",
    "        c_adjs2=self.Formulate_Adj2(c_adjs2,c_valid,num_atoms,device)\n",
    "        #then do the gate\n",
    "        c_hs=self.embede_graph((c_hs,c_adjs1,c_adjs2))\n",
    "        #if self.params['debug']:\n",
    "        #    print(\"embedding size\",c_hs.size())\n",
    "        #sum based on the atoms\n",
    "        c_hs=self.Get_Prediction(c_hs,num_atoms)\n",
    "        c_hs = self.fully_connected(c_hs)\n",
    "        c_hs = c_hs.view(-1)\n",
    "        return c_hs\n",
    "    def test_model(self, data,device):\n",
    "        c_hs, c_adjs1, c_adjs2, c_valid, num_atoms = data\n",
    "        #c_hs = self.embede(c_hs)\n",
    "        c_adjs2 = self.Formulate_Adj2(c_adjs2, c_valid, num_atoms,device)\n",
    "        # then do the gate\n",
    "        c_hs = self.embede_graph((c_hs, c_adjs1, c_adjs2))\n",
    "        # sum based on the atoms\n",
    "        c_hs = self.Get_Prediction(c_hs, num_atoms)\n",
    "        c_hs = self.fully_connected(c_hs)\n",
    "        c_hs = c_hs.view(-1)\n",
    "        return c_hs\n",
    "    def test_model_final(self,data,device):\n",
    "        c_hs, c_adjs1, c_adjs2, c_valid, num_atoms = data\n",
    "        #c_hs = self.embede(c_hs)\n",
    "        c_adjs2 = self.Formulate_Adj2(c_adjs2, c_valid, num_atoms, device)\n",
    "        attention1, attention2 = self.get_attention_weight((c_hs, c_adjs1, c_adjs2))\n",
    "        # then do the gate\n",
    "        c_hs = self.embede_graph((c_hs, c_adjs1, c_adjs2))\n",
    "        # sum based on the atoms\n",
    "        c_hs = self.Get_Prediction(c_hs, num_atoms)\n",
    "        c_hs = self.fully_connected(c_hs)\n",
    "        c_hs = c_hs.view(-1)\n",
    "        return c_hs,attention1,attention2\n",
    "    def eval_model_attention(self,data,device):\n",
    "        c_hs, c_adjs1, c_adjs2, c_valid, num_atoms = data\n",
    "        #c_hs = self.embede(c_hs)\n",
    "        c_adjs2 = self.Formulate_Adj2(c_adjs2, c_valid, num_atoms, device)\n",
    "        attention1,attention2 = self.get_attention_weight((c_hs, c_adjs1, c_adjs2))\n",
    "        return attention1,attention2\n",
    "    def feature_extraction(self,c_hs):\n",
    "        for k in range(len(self.FC)):\n",
    "                # c_hs = self.FC[k](c_hs)\n",
    "            if k < len(self.FC) - 1:\n",
    "                c_hs = self.FC[k](c_hs)\n",
    "                c_hs = F.dropout(c_hs, p=self.dropout_rate, training=False)\n",
    "                c_hs = F.relu(c_hs)\n",
    "\n",
    "            return c_hs\n",
    "    def model_gnn_feature(self, data,device):\n",
    "        c_hs, c_adjs1, c_adjs2, c_valid, num_atoms = data\n",
    "        #c_hs = self.embede(c_hs)\n",
    "        c_adjs2 = self.Formulate_Adj2(c_adjs2, c_valid, num_atoms,device)\n",
    "        # then do the gate\n",
    "        c_hs = self.embede_graph((c_hs, c_adjs1, c_adjs2))\n",
    "        # sum based on the atoms\n",
    "        c_hs = self.Get_Prediction(c_hs, num_atoms)\n",
    "        #c_hs = self.fully_connected(c_hs)\n",
    "        #c_hs = c_hs.view(-1)\n",
    "        c_hs=self.feature_extraction(c_hs)\n",
    "        return c_hs"
   ]
  },
  {
   "cell_type": "code",
   "execution_count": 3,
   "id": "bb5c8015",
   "metadata": {},
   "outputs": [],
   "source": [
    "def count_parameters(model):\n",
    "    return sum(p.numel() for p in model.parameters() if p.requires_grad)\n",
    "\n",
    "def initialize_model(model, device, load_save_file=False):\n",
    "    if load_save_file:\n",
    "        model.load_state_dict(torch.load(load_save_file))\n",
    "    else:\n",
    "        for param in model.parameters():\n",
    "            if param.dim() == 1:\n",
    "                continue\n",
    "                nn.init.constant(param, 0)\n",
    "            else:\n",
    "                #nn.init.normal(param, 0.0, 0.15)\n",
    "                nn.init.xavier_normal_(param)\n",
    "\n",
    "    if torch.cuda.device_count() > 1:\n",
    "        print(\"Let's use\", torch.cuda.device_count(), \"GPUs!\")\n",
    "        # dim = 0 [30, xxx] -> [10, ...], [10, ...], [10, ...] on 3 GPUs\n",
    "        model = nn.DataParallel(model)\n",
    "    model.to(device)\n",
    "    return model\n",
    "\n",
    "def init_model(model_path,params):\n",
    "    model = GNN_Model(params)\n",
    "    print('    Total params: %.10fM' % (count_parameters(model) / 1000000.0))\n",
    "    device = torch.device(\"cuda:0\" if torch.cuda.is_available() else \"cpu\")\n",
    "    model = initialize_model(model, device)\n",
    "    state_dict = torch.load(model_path, map_location = device)\n",
    "    model.load_state_dict(state_dict)\n",
    "    model.eval()\n",
    "    return model,device"
   ]
  },
  {
   "cell_type": "code",
   "execution_count": 6,
   "id": "1ce6097e",
   "metadata": {},
   "outputs": [],
   "source": [
    "def Get_Predictions(dataloader,device,model):\n",
    "    Final_pred = []\n",
    "    total_Y = []\n",
    "    with torch.no_grad():\n",
    "        for batch_idx, sample in enumerate(dataloader):\n",
    "            H, A1, A2, V, Y, Atom_count = sample\n",
    "            batch_size = H.size(0)\n",
    "            H, A1, A2, V = H.to(device), A1.to(device), A2.to(device), V.to(device)\n",
    "            pred= model.test_model((H, A1, A2, V, Atom_count), device)\n",
    "            pred1 = pred.detach().cpu().numpy()\n",
    "            Final_pred += list(pred1)\n",
    "            total_Y += list(Y)\n",
    "    return total_Y, Final_pred\n",
    "\n",
    "def test_falcon_gnn(input_path, params, model_path):\n",
    "    '''\n",
    "    Trains the GNN according to Jake's parameters.\n",
    "    FALCON_GNN stands for Fucking Awesome Linking\n",
    "    Cohort Of Nottingham, which I just made up\n",
    "    '''\n",
    "    ## Get all the NPZ files from the input_path\n",
    "\n",
    "    list_npz = [f for f in listdir(input_path) if isfile(join(input_path, f)) and f.endswith(\".npz\")]\n",
    "    fold1_label = ['1a2k', '1e96', '1he1', '1he8', '1wq1', '1f6m', '1ma9', '2btf', '1g20', '1ku6', '1t6g', '1ugh', '1yvb', '2ckh', '3pro']\n",
    "    fold2_label = ['1akj', '1p7q', '2bnq', '1dfj', '1nbf', '1r4m', '1xd3', '2bkr', '1gpw', '1hxy', '1u7f', '1uex', '1zy8', '2goo', '1ewy']\n",
    "    fold3_label = ['1avw', '1bth', '1bui', '1cho', '1ezu', '1ook', '1oph', '1ppf', '1tx6', '1xx9', '2fi4', '2kai', '1r0r', '2sni', '3sic']\n",
    "    fold4_label = ['1bvn', '1tmq', '1f51', '1fm9', '1a2y', '1g6v', '1gpq', '1jps', '1wej', '1l9b', '1s6v', '1w1i', '2a5t', '3fap']\n",
    "\n",
    "    train_data_list = []\n",
    "    test_data_list = []\n",
    "    print(len(list_npz))\n",
    "    for file in list_npz:\n",
    "        if file[:4] in fold1_label or file[:4] in fold3_label or file[:4] in fold4_label:\n",
    "            train_data_list.append(file)\n",
    "        elif file[:4] in fold2_label:\n",
    "            test_data_list.append(file)\n",
    "    \n",
    "    ## Just to test it out\n",
    "#     test_data_list = test_data_list[:120]\n",
    "    \n",
    "    train_data = Single_Dataset(train_data_list)\n",
    "    test_data = Single_Dataset(test_data_list)\n",
    "    #train_data, test_data = random_split(dataset, [0.75, 0.25])\n",
    "\n",
    "    BATCH_SIZE = 10\n",
    "\n",
    "    train_loader = DataLoader(train_data, BATCH_SIZE, shuffle=False,\n",
    "                            num_workers=params['num_workers'],\n",
    "                            drop_last=False, collate_fn=collate_fn_Jake)\n",
    "\n",
    "    test_loader = DataLoader(test_data, BATCH_SIZE, shuffle=False,\n",
    "                            num_workers=params['num_workers'],\n",
    "                            drop_last=False, collate_fn=collate_fn_Jake)\n",
    "\n",
    "    ## Initialize Model from saved state\n",
    "    \n",
    "    model, device = init_model(model_path, params)\n",
    "    \n",
    "    ## Get predictions for the model\n",
    "    \n",
    "    os.chdir(input_path)\n",
    "    Y, Final_Pred = Get_Predictions(test_loader, device, model)\n",
    "     \n",
    "    return test_data_list, Final_Pred, Y"
   ]
  },
  {
   "cell_type": "markdown",
   "id": "2db4f2b0",
   "metadata": {},
   "source": [
    "## Actually testing the model"
   ]
  },
  {
   "cell_type": "code",
   "execution_count": 10,
   "id": "463e5d4f",
   "metadata": {},
   "outputs": [
    {
     "name": "stdout",
     "output_type": "stream",
     "text": [
      "6275\n",
      "    Total params: 8.5652550000M\n"
     ]
    }
   ],
   "source": [
    "## Original DOVE GNN Parameters\n",
    "\n",
    "params = {\n",
    "    'F' : 'example',\n",
    "    'mode' : '3',\n",
    "    'gpu' : '0',\n",
    "    'batch_size' : 32,\n",
    "    'num_workers' : 7,\n",
    "    'n_graph_layer' : 4,\n",
    "    'd_graph_layer' : 1024,\n",
    "    'n_FC_layer' : 4,\n",
    "    'd_FC_layer' : 128,\n",
    "    'initial_mu' : 0.0,\n",
    "    'initial_dev' : 1.0,\n",
    "    'dropout_rate' : 0.3,\n",
    "    'seed' : 888,\n",
    "    'fold' : -1,\n",
    "    'receptor_units' : 1,\n",
    "}\n",
    "\n",
    "\n",
    "model_path = \"/mnt/c/Users/jaket/Documents/GNN_DOVE_DATA/full_train_DG1_random_batch_orig_params.pt\"\n",
    "input_path = \"/mnt/d/dockground_1_processed_npz\"\n",
    "test_list, preds, y = test_falcon_gnn(input_path, params, model_path)"
   ]
  },
  {
   "cell_type": "code",
   "execution_count": 16,
   "id": "20017e2c",
   "metadata": {},
   "outputs": [
    {
     "name": "stdout",
     "output_type": "stream",
     "text": [
      "6275\n",
      "    Total params: 6.6685780000M\n"
     ]
    }
   ],
   "source": [
    "## Jake Parameters 1\n",
    "\n",
    "params = {\n",
    "    'F' : 'example',\n",
    "    'mode' : '3',\n",
    "    'gpu' : '0',\n",
    "    'batch_size' : 32,\n",
    "    'num_workers' : 7,\n",
    "    'n_graph_layer' : 3,\n",
    "    'd_graph_layer' : 1024,\n",
    "    'n_FC_layer' : 4,\n",
    "    'd_FC_layer' : 128,\n",
    "    'initial_mu' : 0.0,\n",
    "    'initial_dev' : 1.0,\n",
    "    'dropout_rate' : 0.3,\n",
    "    'seed' : 888,\n",
    "    'fold' : -1,\n",
    "    'receptor_units' : 1,\n",
    "}\n",
    "\n",
    "\n",
    "model_path = \"/mnt/c/Users/jaket/Documents/GNN_DOVE_DATA/full_train_DG1_random_batch_jake_params_1.pt\"\n",
    "input_path = \"/mnt/d/dockground_1_processed_npz\"\n",
    "test_list_1, preds_1, y_1 = test_falcon_gnn(input_path, params, model_path)"
   ]
  },
  {
   "cell_type": "code",
   "execution_count": 20,
   "id": "949abcfb",
   "metadata": {},
   "outputs": [
    {
     "name": "stdout",
     "output_type": "stream",
     "text": [
      "6275\n",
      "    Total params: 9.5805500000M\n"
     ]
    }
   ],
   "source": [
    "## Jake Parameters 2\n",
    "\n",
    "params = {\n",
    "    'F' : 'example',\n",
    "    'mode' : '3',\n",
    "    'gpu' : '0',\n",
    "    'batch_size' : 32,\n",
    "    'num_workers' : 7,\n",
    "    'n_graph_layer' : 3,\n",
    "    'd_graph_layer' : 1024,\n",
    "    'n_FC_layer' : 4,\n",
    "    'd_FC_layer' : 128,\n",
    "    'initial_mu' : 0.0,\n",
    "    'initial_dev' : 1.0,\n",
    "    'dropout_rate' : 0.3,\n",
    "    'seed' : 888,\n",
    "    'fold' : -1,\n",
    "    'receptor_units' : 1,\n",
    "}\n",
    "\n",
    "\n",
    "model_path = \"/mnt/c/Users/jaket/Documents/GNN_DOVE_DATA/full_train_DG1_random_batch_jake_params_2.pt\"\n",
    "input_path = \"/mnt/d/dockground_1_processed_npz\"\n",
    "test_list_2, preds_2, y_2 = test_falcon_gnn(input_path, params, model_path)"
   ]
  },
  {
   "cell_type": "code",
   "execution_count": 22,
   "id": "ddd15163",
   "metadata": {},
   "outputs": [
    {
     "name": "stdout",
     "output_type": "stream",
     "text": [
      "6275\n",
      "    Total params: 9.5805500000M\n"
     ]
    }
   ],
   "source": [
    "## Jake Parameters 3\n",
    "\n",
    "params = {\n",
    "    'F' : 'example',\n",
    "    'mode' : '3',\n",
    "    'gpu' : '0',\n",
    "    'batch_size' : 32,\n",
    "    'num_workers' : 7,\n",
    "    'n_graph_layer' : 3,\n",
    "    'd_graph_layer' : 1024,\n",
    "    'n_FC_layer' : 4,\n",
    "    'd_FC_layer' : 128,\n",
    "    'initial_mu' : 0.0,\n",
    "    'initial_dev' : 1.0,\n",
    "    'dropout_rate' : 0.3,\n",
    "    'seed' : 888,\n",
    "    'fold' : -1,\n",
    "    'receptor_units' : 1,\n",
    "}\n",
    "\n",
    "\n",
    "model_path = \"/mnt/c/Users/jaket/Documents/GNN_DOVE_DATA/full_train_DG1_random_batch_jake_params_3.pt\"\n",
    "input_path = \"/mnt/d/dockground_1_processed_npz\"\n",
    "test_list_3, preds_3, y_3 = test_falcon_gnn(input_path, params, model_path)"
   ]
  },
  {
   "cell_type": "markdown",
   "id": "f3f4eb50",
   "metadata": {},
   "source": [
    "## Assessing the Top Ranks of the Models"
   ]
  },
  {
   "cell_type": "code",
   "execution_count": 34,
   "id": "8e5d1449",
   "metadata": {},
   "outputs": [],
   "source": [
    "## Some functions to help with everything\n",
    "def get_ordered_list(test_list, preds, y):\n",
    "    '''\n",
    "    Works to get the ordered and grouped list \n",
    "    to make analysis easier\n",
    "    '''\n",
    "    curr_pdb = ''\n",
    "    ordered_test_list = []\n",
    "    temp_pdb_list = []\n",
    "    for i,ele in enumerate(test_list):\n",
    "        if ele[:4] != curr_pdb:\n",
    "            ## Reset the vars for the next pdb set\n",
    "            curr_pdb = ele[:4]\n",
    "            temp_pdb_list.sort()\n",
    "            ordered_test_list.append(temp_pdb_list[::-1])\n",
    "            temp_pdb_list = []\n",
    "        temp_pdb_list.append((preds[i], ele.split(\".\")[0], int(y[i])))\n",
    "\n",
    "    ordered_test_list = ordered_test_list[1:]\n",
    "    return ordered_test_list"
   ]
  },
  {
   "cell_type": "code",
   "execution_count": 35,
   "id": "06cdfab4",
   "metadata": {},
   "outputs": [],
   "source": [
    "## Getting the top ranks the same way that DOVE_GNN does\n",
    "\n",
    "def get_ranks(ordered_test_list):\n",
    "    '''\n",
    "    Gets the top ranks the same way the DOVE GNN does\n",
    "    '''\n",
    "    rank_list = []\n",
    "    for group in ordered_test_list:\n",
    "        first_rank = 0\n",
    "        group_name = group[0][1][:4]\n",
    "        for i, entry in enumerate(group):\n",
    "            if entry[2] == 1:\n",
    "                rank_list.append((group_name, i+1))\n",
    "                break\n",
    "    return rank_list"
   ]
  },
  {
   "cell_type": "code",
   "execution_count": 36,
   "id": "0cb43706",
   "metadata": {},
   "outputs": [],
   "source": [
    "## Calculating the Top Ranks:\n",
    "\n",
    "orig_ranks = get_ranks(get_ordered_list(test_list, preds, y))\n",
    "jake1_ranks = get_ranks(get_ordered_list(test_list_1, preds_1, y_1))\n",
    "jake2_ranks = get_ranks(get_ordered_list(test_list_2, preds_2, y_2))\n",
    "jake3_ranks = get_ranks(get_ordered_list(test_list_3, preds_3, y_3))"
   ]
  },
  {
   "cell_type": "code",
   "execution_count": 37,
   "id": "1612a396",
   "metadata": {},
   "outputs": [
    {
     "name": "stdout",
     "output_type": "stream",
     "text": [
      "[('1akj', 1), ('1dfj', 1), ('1ewy', 1), ('1gpw', 1), ('1hxy', 1), ('1nbf', 1), ('1p7q', 1), ('1r4m', 1), ('1u7f', 1), ('1uex', 1), ('1xd3', 1), ('1zy8', 1), ('2bkr', 1), ('2bnq', 1)]\n"
     ]
    }
   ],
   "source": [
    "print(orig_ranks)"
   ]
  },
  {
   "cell_type": "code",
   "execution_count": 38,
   "id": "7e25393e",
   "metadata": {},
   "outputs": [
    {
     "name": "stdout",
     "output_type": "stream",
     "text": [
      "[('1akj', 1), ('1dfj', 1), ('1ewy', 1), ('1gpw', 1), ('1hxy', 1), ('1nbf', 1), ('1p7q', 1), ('1r4m', 1), ('1u7f', 1), ('1uex', 1), ('1xd3', 1), ('1zy8', 1), ('2bkr', 1), ('2bnq', 1)]\n"
     ]
    }
   ],
   "source": [
    "print(jake1_ranks)"
   ]
  },
  {
   "cell_type": "code",
   "execution_count": 39,
   "id": "a1fa2edd",
   "metadata": {},
   "outputs": [
    {
     "name": "stdout",
     "output_type": "stream",
     "text": [
      "[('1akj', 1), ('1dfj', 79), ('1ewy', 3), ('1gpw', 66), ('1hxy', 1), ('1nbf', 1), ('1p7q', 1), ('1r4m', 6), ('1u7f', 2), ('1uex', 2), ('1xd3', 1), ('1zy8', 3), ('2bkr', 1), ('2bnq', 1)]\n"
     ]
    }
   ],
   "source": [
    "print(jake2_ranks)"
   ]
  },
  {
   "cell_type": "code",
   "execution_count": 40,
   "id": "f66a5319",
   "metadata": {},
   "outputs": [
    {
     "name": "stdout",
     "output_type": "stream",
     "text": [
      "[('1akj', 2), ('1dfj', 64), ('1ewy', 3), ('1gpw', 19), ('1hxy', 2), ('1nbf', 8), ('1p7q', 1), ('1r4m', 22), ('1u7f', 2), ('1uex', 17), ('1xd3', 6), ('1zy8', 1), ('2bkr', 4), ('2bnq', 1)]\n"
     ]
    }
   ],
   "source": [
    "print(jake3_ranks)"
   ]
  },
  {
   "cell_type": "markdown",
   "id": "019e2d45",
   "metadata": {},
   "source": [
    "## Looking at Loss"
   ]
  },
  {
   "cell_type": "code",
   "execution_count": 48,
   "id": "617e4389",
   "metadata": {},
   "outputs": [],
   "source": [
    "os.chdir(\"/mnt/c/Users/jaket/Documents/GNN_DOVE_DATA/\")\n",
    "loss_orig = pickle.load(open(\"full_train_DG1_random_batch_orig_params_loss.pickle\", \"rb\"))\n",
    "loss_jake_1 = pickle.load(open(\"full_train_DG1_random_batch_jake_params_1_loss.pickle\", \"rb\"))\n",
    "loss_jake_2 = pickle.load(open(\"full_train_DG1_random_batch_jake_params_2_loss.pickle\", \"rb\"))\n",
    "loss_jake_3 = pickle.load(open(\"full_train_DG1_random_batch_jake_params_3_loss.pickle\", \"rb\"))"
   ]
  },
  {
   "cell_type": "code",
   "execution_count": 50,
   "id": "905c6bd3",
   "metadata": {},
   "outputs": [
    {
     "data": {
      "text/plain": [
       "<matplotlib.legend.Legend at 0x7f7755abaf10>"
      ]
     },
     "execution_count": 50,
     "metadata": {},
     "output_type": "execute_result"
    },
    {
     "data": {
      "image/png": "[encoded data removed]",
      "text/plain": [
       "<Figure size 640x480 with 1 Axes>"
      ]
     },
     "metadata": {},
     "output_type": "display_data"
    }
   ],
   "source": [
    "fig, ax = plt.subplots()\n",
    "\n",
    "x_axis = range(1,31)\n",
    "ax.plot(x_axis, loss_orig, label = \"Original Parameters\", color = \"black\", marker = \"o\", markerfacecolor = \"None\")\n",
    "ax.plot(x_axis, loss_jake_1, label = \"Jake 1 Parameters\", color = \"blue\", marker = \"o\", markerfacecolor = \"None\")\n",
    "ax.plot(x_axis, loss_jake_2, label = \"Jake 2 Parameters\", color = \"green\", marker = \"o\", markerfacecolor = \"None\")\n",
    "ax.plot(x_axis, loss_jake_3, label = \"Jake 3 Parameters\", color = \"purple\", marker = \"o\", markerfacecolor = \"None\")\n",
    "ax.set_xlabel(\"Epoch\")\n",
    "ax.set_ylabel(\"Loss\")\n",
    "plt.title(\"Loss for Various Model Attempts\")\n",
    "plt.legend()"
   ]
  },
  {
   "cell_type": "markdown",
   "id": "e239da6e",
   "metadata": {},
   "source": [
    "# Looking at the chosen best model repeated with all data folds"
   ]
  },
  {
   "cell_type": "markdown",
   "id": "0713d107",
   "metadata": {},
   "source": [
    "## Testing the models on their test sets"
   ]
  },
  {
   "cell_type": "code",
   "execution_count": null,
   "id": "c16fcee7",
   "metadata": {},
   "outputs": [],
   "source": [
    "## Jake Parameters 2 - Test 1\n",
    "\n",
    "params = {\n",
    "    'F' : 'example',\n",
    "    'mode' : '3',\n",
    "    'gpu' : '0',\n",
    "    'batch_size' : 32,\n",
    "    'num_workers' : 7,\n",
    "    'n_graph_layer' : 3,\n",
    "    'd_graph_layer' : 1024,\n",
    "    'n_FC_layer' : 4,\n",
    "    'd_FC_layer' : 128,\n",
    "    'initial_mu' : 0.0,\n",
    "    'initial_dev' : 1.0,\n",
    "    'dropout_rate' : 0.3,\n",
    "    'seed' : 888,\n",
    "    'fold' : -1,\n",
    "    'receptor_units' : 1,\n",
    "}\n",
    "\n",
    "\n",
    "model_path = \"/mnt/c/Users/jaket/Documents/GNN_DOVE_DATA/full_train_DG1_random_batch_jake_params_2.pt\"\n",
    "input_path = \"/mnt/d/dockground_1_processed_npz\"\n",
    "test_list_1, preds_1, y_1 = test_falcon_gnn(input_path, params, model_path)"
   ]
  },
  {
   "cell_type": "code",
   "execution_count": null,
   "id": "4e85176d",
   "metadata": {},
   "outputs": [],
   "source": [
    "## Jake Parameters 2 - Test 2\n",
    "\n",
    "params = {\n",
    "    'F' : 'example',\n",
    "    'mode' : '3',\n",
    "    'gpu' : '0',\n",
    "    'batch_size' : 32,\n",
    "    'num_workers' : 7,\n",
    "    'n_graph_layer' : 3,\n",
    "    'd_graph_layer' : 1024,\n",
    "    'n_FC_layer' : 4,\n",
    "    'd_FC_layer' : 128,\n",
    "    'initial_mu' : 0.0,\n",
    "    'initial_dev' : 1.0,\n",
    "    'dropout_rate' : 0.3,\n",
    "    'seed' : 888,\n",
    "    'fold' : -1,\n",
    "    'receptor_units' : 1,\n",
    "}\n",
    "\n",
    "\n",
    "model_path = \"/mnt/c/Users/jaket/Documents/GNN_DOVE_DATA/full_train_DG1_random_batch_jake_params_2.pt\"\n",
    "input_path = \"/mnt/d/dockground_1_processed_npz\"\n",
    "test_list_2, preds_2, y_2 = test_falcon_gnn(input_path, params, model_path)"
   ]
  },
  {
   "cell_type": "code",
   "execution_count": null,
   "id": "6589fd85",
   "metadata": {},
   "outputs": [],
   "source": [
    "## Jake Parameters 2 - Test 3\n",
    "\n",
    "params = {\n",
    "    'F' : 'example',\n",
    "    'mode' : '3',\n",
    "    'gpu' : '0',\n",
    "    'batch_size' : 32,\n",
    "    'num_workers' : 7,\n",
    "    'n_graph_layer' : 3,\n",
    "    'd_graph_layer' : 1024,\n",
    "    'n_FC_layer' : 4,\n",
    "    'd_FC_layer' : 128,\n",
    "    'initial_mu' : 0.0,\n",
    "    'initial_dev' : 1.0,\n",
    "    'dropout_rate' : 0.3,\n",
    "    'seed' : 888,\n",
    "    'fold' : -1,\n",
    "    'receptor_units' : 1,\n",
    "}\n",
    "\n",
    "\n",
    "model_path = \"/mnt/c/Users/jaket/Documents/GNN_DOVE_DATA/full_train_DG1_random_batch_jake_params_2.pt\"\n",
    "input_path = \"/mnt/d/dockground_1_processed_npz\"\n",
    "test_list_3, preds_3, y_3 = test_falcon_gnn(input_path, params, model_path)"
   ]
  },
  {
   "cell_type": "code",
   "execution_count": null,
   "id": "183ec042",
   "metadata": {},
   "outputs": [],
   "source": [
    "## Jake Parameters 2 - Test 4\n",
    "\n",
    "params = {\n",
    "    'F' : 'example',\n",
    "    'mode' : '3',\n",
    "    'gpu' : '0',\n",
    "    'batch_size' : 32,\n",
    "    'num_workers' : 7,\n",
    "    'n_graph_layer' : 3,\n",
    "    'd_graph_layer' : 1024,\n",
    "    'n_FC_layer' : 4,\n",
    "    'd_FC_layer' : 128,\n",
    "    'initial_mu' : 0.0,\n",
    "    'initial_dev' : 1.0,\n",
    "    'dropout_rate' : 0.3,\n",
    "    'seed' : 888,\n",
    "    'fold' : -1,\n",
    "    'receptor_units' : 1,\n",
    "}\n",
    "\n",
    "\n",
    "model_path = \"/mnt/c/Users/jaket/Documents/GNN_DOVE_DATA/full_train_DG1_random_batch_jake_params_2.pt\"\n",
    "input_path = \"/mnt/d/dockground_1_processed_npz\"\n",
    "test_list_4, preds_4, y_4 = test_falcon_gnn(input_path, params, model_path)"
   ]
  }
 ],
 "metadata": {
  "kernelspec": {
   "display_name": "Python 3 (ipykernel)",
   "language": "python",
   "name": "python3"
  },
  "language_info": {
   "codemirror_mode": {
    "name": "ipython",
    "version": 3
   },
   "file_extension": ".py",
   "mimetype": "text/x-python",
   "name": "python",
   "nbconvert_exporter": "python",
   "pygments_lexer": "ipython3",
   "version": "3.8.15"
  }
 },
 "nbformat": 4,
 "nbformat_minor": 5
}
